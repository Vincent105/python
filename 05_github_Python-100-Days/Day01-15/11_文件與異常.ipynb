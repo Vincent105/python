{
 "cells": [
  {
   "cell_type": "code",
   "execution_count": 12,
   "source": [
    "def main():\r\n",
    "    f = open('.\\\\1.txt', 'r', encoding='utf-8')\r\n",
    "    print(f.read())\r\n",
    "    f.close()\r\n",
    "\r\n",
    "if __name__ == '__main__':\r\n",
    "    main()"
   ],
   "outputs": [
    {
     "output_type": "stream",
     "name": "stdout",
     "text": [
      "test1\n",
      "test2\n",
      "test3\n",
      "\n"
     ]
    }
   ],
   "metadata": {}
  },
  {
   "cell_type": "code",
   "execution_count": 13,
   "source": [
    "import os\r\n",
    "path = os.getcwd()\r\n",
    "print(path)"
   ],
   "outputs": [
    {
     "output_type": "stream",
     "name": "stdout",
     "text": [
      "c:\\PythonCode\\python\\05_github_Python-100-Days\\Day01-15\n"
     ]
    }
   ],
   "metadata": {}
  },
  {
   "cell_type": "code",
   "execution_count": 14,
   "source": [
    "def main():\r\n",
    "    f = None\r\n",
    "    try:\r\n",
    "        f = open('..\\\\1.txt', 'r', encoding='utf-8')\r\n",
    "        print(f.read())\r\n",
    "    except FileNotFoundError:\r\n",
    "        print(\"找不到指定的文件\")\r\n",
    "    except LookupError:\r\n",
    "        print(\"未知編碼的文件\")\r\n",
    "    except UnicodeDecodeError:\r\n",
    "        print(\"讀取文件時解碼失敗\")\r\n",
    "    finally:\r\n",
    "        if f:\r\n",
    "            f.close()\r\n",
    "\r\n",
    "if __name__ == '__main__':\r\n",
    "    main()"
   ],
   "outputs": [
    {
     "output_type": "stream",
     "name": "stdout",
     "text": [
      "找不到指定的文件\n"
     ]
    }
   ],
   "metadata": {}
  },
  {
   "cell_type": "code",
   "execution_count": 15,
   "source": [
    "def main():\r\n",
    "    try:\r\n",
    "        with open('.\\\\1.txt', 'r', encoding='utf-8') as f:\r\n",
    "            print(f.read())\r\n",
    "    except FileNotFoundError:\r\n",
    "        print(\"找不到指定的文件\")\r\n",
    "    except LookupError:\r\n",
    "        print(\"未知編碼的文件\")\r\n",
    "    except UnicodeDecodeError:\r\n",
    "        print(\"讀取文件時解碼失敗\")\r\n",
    "\r\n",
    "if __name__ == '__main__':\r\n",
    "    main()"
   ],
   "outputs": [
    {
     "output_type": "stream",
     "name": "stdout",
     "text": [
      "test1\n",
      "test2\n",
      "test3\n",
      "\n"
     ]
    }
   ],
   "metadata": {}
  },
  {
   "cell_type": "code",
   "execution_count": 23,
   "source": [
    "import time\r\n",
    "\r\n",
    "def main():\r\n",
    "    with open('.\\\\1.txt', 'r', encoding='utf-8') as f:\r\n",
    "        print(f.read())\r\n",
    "    with open('.\\\\1.txt', mode='r') as f:\r\n",
    "        for line in f:\r\n",
    "            print(line, end='|')\r\n",
    "            time.sleep(0.5)\r\n",
    "        print()\r\n",
    "    with open('.\\\\1.txt') as f:\r\n",
    "        lines = f.readlines()\r\n",
    "        lines = ''.join(lines).strip('\\n')\r\n",
    "    print(lines)\r\n",
    "if __name__ == '__main__':\r\n",
    "    main()"
   ],
   "outputs": [
    {
     "output_type": "stream",
     "name": "stdout",
     "text": [
      "test1\n",
      "test2\n",
      "test3\n",
      "\n",
      "test1\n",
      "|test2\n",
      "|test3\n",
      "|\n",
      "test1\n",
      "test2\n",
      "test3\n"
     ]
    }
   ],
   "metadata": {}
  },
  {
   "cell_type": "code",
   "execution_count": 30,
   "source": [
    "from math import sqrt\r\n",
    "\r\n",
    "def main():\r\n",
    "    filenames = ('a.txt', 'b.txt', 'c.txt')\r\n",
    "    fs_list = []\r\n",
    "\r\n",
    "    try:\r\n",
    "        for filename in filenames:\r\n",
    "            fs_list.append(open(filename, 'w', encoding='utf-8'))\r\n",
    "        print(fs_list)\r\n",
    "        for number in range(1, 1000):\r\n",
    "            if number < 10:\r\n",
    "                fs_list[0].write(str(number) + '\\n')\r\n",
    "            elif number < 100:\r\n",
    "                fs_list[1].write(str(number) + '\\n')\r\n",
    "            else:\r\n",
    "                fs_list[2].write(str(number) + '\\n')\r\n",
    "    except IOError as ex:\r\n",
    "        print(ex)\r\n",
    "        print('寫文件發生錯誤!')\r\n",
    "    finally:\r\n",
    "        for fs in fs_list:\r\n",
    "            fs.close()\r\n",
    "        print('寫入資料完成')\r\n",
    "\r\n",
    "if __name__ == '__main__':\r\n",
    "    main()"
   ],
   "outputs": [
    {
     "output_type": "stream",
     "name": "stdout",
     "text": [
      "[<_io.TextIOWrapper name='a.txt' mode='w' encoding='utf-8'>, <_io.TextIOWrapper name='b.txt' mode='w' encoding='utf-8'>, <_io.TextIOWrapper name='c.txt' mode='w' encoding='utf-8'>]\n",
      "寫入資料完成\n"
     ]
    }
   ],
   "metadata": {}
  },
  {
   "cell_type": "code",
   "execution_count": 31,
   "source": [
    "import json\r\n",
    "\r\n",
    "\r\n",
    "def main():\r\n",
    "    mydict = {\r\n",
    "        'name': '駱昊',\r\n",
    "        'age': 38,\r\n",
    "        'qq': 957658,\r\n",
    "        'friends': ['王大锤', '白元芳'],\r\n",
    "        'cars': [\r\n",
    "            {'brand': 'BYD', 'max_speed': 180},\r\n",
    "            {'brand': 'Audi', 'max_speed': 280},\r\n",
    "            {'brand': 'Benz', 'max_speed': 320}\r\n",
    "        ]\r\n",
    "    }\r\n",
    "    try:\r\n",
    "        with open('data.json', 'w', encoding='utf-8') as fs:\r\n",
    "            json.dump(mydict, fs)\r\n",
    "    except IOError as e:\r\n",
    "        print(e)\r\n",
    "    print('保存数据完成!')\r\n",
    "\r\n",
    "\r\n",
    "if __name__ == '__main__':\r\n",
    "    main()"
   ],
   "outputs": [
    {
     "output_type": "stream",
     "name": "stdout",
     "text": [
      "保存数据完成!\n"
     ]
    }
   ],
   "metadata": {}
  },
  {
   "cell_type": "code",
   "execution_count": 9,
   "source": [
    "import requests\r\n",
    "import json\r\n",
    "\r\n",
    "def main():\r\n",
    "    resp = requests.get('http://api.plos.org/search?q=title:DNA')\r\n",
    "    data_model = json.loads(resp.text)\r\n",
    "\r\n",
    "    for news in data_model['response']['docs']:\r\n",
    "        print(news['id'])\r\n",
    "\r\n",
    "if __name__ == \"__main__\":\r\n",
    "    main()"
   ],
   "outputs": [
    {
     "output_type": "stream",
     "name": "stdout",
     "text": [
      "10.1371/journal.pone.0000290\n",
      "10.1371/journal.pone.0154785\n",
      "10.1371/journal.pone.0047101\n",
      "10.1371/journal.pbio.0020173\n",
      "10.1371/journal.pgen.0030110\n",
      "10.1371/annotation/254cef67-ab0e-43f6-af62-8f7df7c3677c\n",
      "10.1371/journal.pone.0124444\n",
      "10.1371/journal.pone.0177147\n",
      "10.1371/journal.pgen.1006605\n",
      "10.1371/journal.pone.0180798\n"
     ]
    }
   ],
   "metadata": {}
  }
 ],
 "metadata": {
  "orig_nbformat": 4,
  "language_info": {
   "name": "python",
   "version": "3.8.5",
   "mimetype": "text/x-python",
   "codemirror_mode": {
    "name": "ipython",
    "version": 3
   },
   "pygments_lexer": "ipython3",
   "nbconvert_exporter": "python",
   "file_extension": ".py"
  },
  "kernelspec": {
   "name": "python3",
   "display_name": "Python 3.8.5 64-bit ('base': conda)"
  },
  "interpreter": {
   "hash": "97ae724bfa85b9b34df7982b8bb8c7216f435b92902d749e4263f71162bea840"
  }
 },
 "nbformat": 4,
 "nbformat_minor": 2
}