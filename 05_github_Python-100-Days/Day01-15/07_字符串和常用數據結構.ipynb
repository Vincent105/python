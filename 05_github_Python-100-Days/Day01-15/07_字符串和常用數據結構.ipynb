{
 "cells": [
  {
   "cell_type": "code",
   "execution_count": 126,
   "source": [
    "s1 = 'hello world'\r\n",
    "s2 = \"hello world\"\r\n",
    "s3 = \"\"\"\r\n",
    "hello\r\n",
    "world!\r\n",
    "\"\"\"\r\n",
    "print(s1,s2,s3)"
   ],
   "outputs": [
    {
     "output_type": "stream",
     "name": "stdout",
     "text": [
      "hello world hello world \n",
      "hello\n",
      "world!\n",
      "\n"
     ]
    }
   ],
   "metadata": {}
  },
  {
   "cell_type": "code",
   "execution_count": 127,
   "source": [
    "s1 = '\\'hello world!\\''\r\n",
    "s2 = '\\n\\\\hello world\\\\\\n'\r\n",
    "print(s1, s2, end=',')"
   ],
   "outputs": [
    {
     "output_type": "stream",
     "name": "stdout",
     "text": [
      "'hello world!' \n",
      "\\hello world\\\n",
      ","
     ]
    }
   ],
   "metadata": {}
  },
  {
   "cell_type": "code",
   "execution_count": 128,
   "source": [
    "s1 = '\\141\\142\\143\\x61\\x62\\x63'\r\n",
    "s2 = '\\u9a86\\u660a'\r\n",
    "print(s1, s2)"
   ],
   "outputs": [
    {
     "output_type": "stream",
     "name": "stdout",
     "text": [
      "abcabc 骆昊\n"
     ]
    }
   ],
   "metadata": {}
  },
  {
   "cell_type": "code",
   "execution_count": 129,
   "source": [
    "s1 = r'\\'hello, world!\\''\r\n",
    "s2 = r'\\n\\\\hello, world!\\\\\\n'\r\n",
    "print(s1, s2, end='')"
   ],
   "outputs": [
    {
     "output_type": "stream",
     "name": "stdout",
     "text": [
      "\\'hello, world!\\' \\n\\\\hello, world!\\\\\\n"
     ]
    }
   ],
   "metadata": {}
  },
  {
   "cell_type": "code",
   "execution_count": 130,
   "source": [
    "s1 = 'hello' * 3\r\n",
    "print(s1)\r\n",
    "s2 = '~world'\r\n",
    "s1 += s2\r\n",
    "print(s1)\r\n",
    "print('ll' in s1)\r\n",
    "print('good' in s1)\r\n",
    "\r\n",
    "str2 = 'abcde123456'\r\n",
    "print(str2[2:5])\r\n",
    "print(str2[2:])\r\n",
    "print(str2[2::2])\r\n",
    "print(str2[::2])\r\n",
    "print(str2[::-1])\r\n",
    "print(str2[-3::-1])"
   ],
   "outputs": [
    {
     "output_type": "stream",
     "name": "stdout",
     "text": [
      "hellohellohello\n",
      "hellohellohello~world\n",
      "True\n",
      "False\n",
      "cde\n",
      "cde123456\n",
      "ce246\n",
      "ace246\n",
      "654321edcba\n",
      "4321edcba\n"
     ]
    }
   ],
   "metadata": {}
  },
  {
   "cell_type": "code",
   "execution_count": 131,
   "source": [
    "str1 = 'hello, world!'\r\n",
    "print(len(str1))\r\n",
    "print(str1.capitalize())\r\n",
    "print(str1.title())\r\n",
    "print(str1.upper())\r\n",
    "print(str1.find('or'))\r\n",
    "print(str1.find('shit'))\r\n",
    "print(str1.startswith('He'))\r\n",
    "print(str1.startswith('hel'))\r\n",
    "print(str1.endswith('!'))\r\n",
    "print(str1.center(50, '*'))\r\n",
    "print(str1.rjust(50, ' '))\r\n",
    "\r\n",
    "str2 = 'abc123456'\r\n",
    "print(str2.isdigit())\r\n",
    "print(str2.isalpha())\r\n",
    "print(str2.isalnum())\r\n",
    "\r\n",
    "str3 = '  jackfrued@126.com '\r\n",
    "print(str3)\r\n",
    "print(str3.strip())"
   ],
   "outputs": [
    {
     "output_type": "stream",
     "name": "stdout",
     "text": [
      "13\n",
      "Hello, world!\n",
      "Hello, World!\n",
      "HELLO, WORLD!\n",
      "8\n",
      "-1\n",
      "False\n",
      "True\n",
      "True\n",
      "******************hello, world!*******************\n",
      "                                     hello, world!\n",
      "False\n",
      "False\n",
      "True\n",
      "  jackfrued@126.com \n",
      "jackfrued@126.com\n"
     ]
    }
   ],
   "metadata": {}
  },
  {
   "cell_type": "code",
   "execution_count": 132,
   "source": [
    "a, b = 5, 10\r\n",
    "print('%d * %d = %d' % (a, b, a * b))\r\n",
    "print('{0} * {1} = {2}'.format(a, b, a * b))\r\n",
    "print(f'{a} * {b} = {a * b}')"
   ],
   "outputs": [
    {
     "output_type": "stream",
     "name": "stdout",
     "text": [
      "5 * 10 = 50\n",
      "5 * 10 = 50\n",
      "5 * 10 = 50\n"
     ]
    }
   ],
   "metadata": {}
  },
  {
   "cell_type": "markdown",
   "source": [
    "列表(定義列表、如何遍歷列表以及列表的下標運算)"
   ],
   "metadata": {}
  },
  {
   "cell_type": "code",
   "execution_count": 133,
   "source": [
    "list1 = [1, 3, 5, 7, 100]\r\n",
    "print(list1)\r\n",
    "list2 = ['hello'] * 3\r\n",
    "print(list2)\r\n",
    "print(len(list1))\r\n",
    "print(list1[0])\r\n",
    "print(list1[len(list1) - 1])\r\n",
    "print(list1[-1])\r\n",
    "print(list1[-3])\r\n",
    "list1[2] = 300\r\n",
    "print(list1)\r\n",
    "for index in range(len(list1)):\r\n",
    "    print(list1[index])\r\n",
    "for elem in list1:\r\n",
    "    print(elem)\r\n",
    "for index, elem in enumerate(list1):\r\n",
    "    print(index, elem)"
   ],
   "outputs": [
    {
     "output_type": "stream",
     "name": "stdout",
     "text": [
      "[1, 3, 5, 7, 100]\n",
      "['hello', 'hello', 'hello']\n",
      "5\n",
      "1\n",
      "100\n",
      "100\n",
      "5\n",
      "[1, 3, 300, 7, 100]\n",
      "1\n",
      "3\n",
      "300\n",
      "7\n",
      "100\n",
      "1\n",
      "3\n",
      "300\n",
      "7\n",
      "100\n",
      "0 1\n",
      "1 3\n",
      "2 300\n",
      "3 7\n",
      "4 100\n"
     ]
    }
   ],
   "metadata": {}
  },
  {
   "cell_type": "markdown",
   "source": [
    "列表(向列表中添加元素以及如何從列表中移除元素)"
   ],
   "metadata": {}
  },
  {
   "cell_type": "code",
   "execution_count": 134,
   "source": [
    "list1 = [1, 3, 5, 7, 100]\r\n",
    "list1.append(200)\r\n",
    "list1.insert(1, 400)\r\n",
    "list1 += [1000, 2000]\r\n",
    "print(list1)\r\n",
    "print(len(list1))\r\n",
    "\r\n",
    "if 3 in list1:\r\n",
    "    list1.remove(3)\r\n",
    "if 1234 in list1:\r\n",
    "    list1.remove(1234)\r\n",
    "print(list1)\r\n",
    "list1.pop(0)\r\n",
    "list1.pop(len(list1) - 1)\r\n",
    "print(list1)\r\n",
    "list1.clear()\r\n",
    "print(list1)"
   ],
   "outputs": [
    {
     "output_type": "stream",
     "name": "stdout",
     "text": [
      "[1, 400, 3, 5, 7, 100, 200, 1000, 2000]\n",
      "9\n",
      "[1, 400, 5, 7, 100, 200, 1000, 2000]\n",
      "[400, 5, 7, 100, 200, 1000]\n",
      "[]\n"
     ]
    }
   ],
   "metadata": {}
  },
  {
   "cell_type": "markdown",
   "source": [
    "列表(切片)"
   ],
   "metadata": {}
  },
  {
   "cell_type": "code",
   "execution_count": 135,
   "source": [
    "fruits = ['grape', 'apple', 'strawberry', 'waxberry']\r\n",
    "fruits += ['pitaya', 'pear', 'mango']\r\n",
    "fruits2 = fruits[1:4]\r\n",
    "print(fruits2)\r\n",
    "fruits3 = fruits[:]\r\n",
    "print(fruits3)\r\n",
    "fruits4 = fruits[-3:-1]\r\n",
    "print(fruits4)\r\n",
    "fruits5 = fruits[::-1]\r\n",
    "print(fruits5)"
   ],
   "outputs": [
    {
     "output_type": "stream",
     "name": "stdout",
     "text": [
      "['apple', 'strawberry', 'waxberry']\n",
      "['grape', 'apple', 'strawberry', 'waxberry', 'pitaya', 'pear', 'mango']\n",
      "['pitaya', 'pear']\n",
      "['mango', 'pear', 'pitaya', 'waxberry', 'strawberry', 'apple', 'grape']\n"
     ]
    }
   ],
   "metadata": {}
  },
  {
   "cell_type": "markdown",
   "source": [
    "列表(排序)"
   ],
   "metadata": {}
  },
  {
   "cell_type": "code",
   "execution_count": 136,
   "source": [
    "list1 = ['orange', 'apple', 'zoo', 'internationalization', 'blueberry']\r\n",
    "list2 = sorted(list1)\r\n",
    "list3 = sorted(list1, reverse=True)\r\n",
    "list4 = sorted(list1, key=len, reverse=True) # 通过key关键字参数指定根据字符串长度进行排序\r\n",
    "print(list1)\r\n",
    "print(list2)\r\n",
    "print(list3)\r\n",
    "print(list4)"
   ],
   "outputs": [
    {
     "output_type": "stream",
     "name": "stdout",
     "text": [
      "['orange', 'apple', 'zoo', 'internationalization', 'blueberry']\n",
      "['apple', 'blueberry', 'internationalization', 'orange', 'zoo']\n",
      "['zoo', 'orange', 'internationalization', 'blueberry', 'apple']\n",
      "['internationalization', 'blueberry', 'orange', 'apple', 'zoo']\n"
     ]
    }
   ],
   "metadata": {}
  },
  {
   "cell_type": "markdown",
   "source": [
    "列表(生成式和生成器)"
   ],
   "metadata": {}
  },
  {
   "cell_type": "code",
   "execution_count": 137,
   "source": [
    "f = [x for x in range(1, 10)]\r\n",
    "print(f)\r\n",
    "f = [x + y for x in 'ABCDE' for y in '12345']\r\n",
    "print(f)\r\n",
    "f = [x ** 2 for x in range(1, 10)]\r\n",
    "print(f)\r\n",
    "print(sys.getsizeof(f))\r\n",
    "f = (x ** 2 for x in range(1, 10))\r\n",
    "print(sys.getsizeof(f))\r\n",
    "for val in f:\r\n",
    "    print(val)\r\n"
   ],
   "outputs": [
    {
     "output_type": "stream",
     "name": "stdout",
     "text": [
      "[1, 2, 3, 4, 5, 6, 7, 8, 9]\n",
      "['A1', 'A2', 'A3', 'A4', 'A5', 'B1', 'B2', 'B3', 'B4', 'B5', 'C1', 'C2', 'C3', 'C4', 'C5', 'D1', 'D2', 'D3', 'D4', 'D5', 'E1', 'E2', 'E3', 'E4', 'E5']\n",
      "[1, 4, 9, 16, 25, 36, 49, 64, 81]\n",
      "184\n",
      "112\n",
      "1\n",
      "4\n",
      "9\n",
      "16\n",
      "25\n",
      "36\n",
      "49\n",
      "64\n",
      "81\n"
     ]
    }
   ],
   "metadata": {}
  },
  {
   "cell_type": "code",
   "execution_count": 138,
   "source": [
    "def fib(n):\r\n",
    "    a, b = 0 ,1\r\n",
    "    for _ in range(n):\r\n",
    "        a, b =b,  a + b\r\n",
    "        yield a\r\n",
    "def main():\r\n",
    "    for val in fib(20):\r\n",
    "        print(val)\r\n",
    "\r\n",
    "if __name__ == '__main__':\r\n",
    "    main()"
   ],
   "outputs": [
    {
     "output_type": "stream",
     "name": "stdout",
     "text": [
      "1\n",
      "1\n",
      "2\n",
      "3\n",
      "5\n",
      "8\n",
      "13\n",
      "21\n",
      "34\n",
      "55\n",
      "89\n",
      "144\n",
      "233\n",
      "377\n",
      "610\n",
      "987\n",
      "1597\n",
      "2584\n",
      "4181\n",
      "6765\n"
     ]
    }
   ],
   "metadata": {}
  },
  {
   "cell_type": "markdown",
   "source": [
    "使用元组"
   ],
   "metadata": {}
  },
  {
   "cell_type": "code",
   "execution_count": 139,
   "source": [
    "t = ('test', 38, True, 'vincent')\r\n",
    "print(t)\r\n",
    "print(t[0])\r\n",
    "print(t[len(t) - 1])\r\n",
    "for member in t:\r\n",
    "    print(member)\r\n",
    "t = ('new', 38, True, 'esther')\r\n",
    "print(t)\r\n",
    "person = list(t)\r\n",
    "print(person)\r\n",
    "person[0] = 'old'\r\n",
    "person[1] = 1000\r\n",
    "print(person)\r\n",
    "fruit_list = ['apple', 'banana', 'orange']\r\n",
    "fruit_tuple = tuple(fruit_list)\r\n",
    "print(fruit_tuple)"
   ],
   "outputs": [
    {
     "output_type": "stream",
     "name": "stdout",
     "text": [
      "('test', 38, True, 'vincent')\n",
      "test\n",
      "vincent\n",
      "test\n",
      "38\n",
      "True\n",
      "vincent\n",
      "('new', 38, True, 'esther')\n",
      "['new', 38, True, 'esther']\n",
      "['old', 1000, True, 'esther']\n",
      "('apple', 'banana', 'orange')\n"
     ]
    }
   ],
   "metadata": {}
  },
  {
   "cell_type": "markdown",
   "source": [
    "使用集合"
   ],
   "metadata": {}
  },
  {
   "cell_type": "code",
   "execution_count": 140,
   "source": [
    "set1 = {1, 2, 3, 3, 3, 2}\r\n",
    "print(set1)\r\n",
    "print('length=', len(set1))\r\n",
    "set2 = set(range(1, 10))\r\n",
    "print(set2)\r\n",
    "set3 = set((1, 2, 3, 3, 2, 1))\r\n",
    "set4 = {num for num in range(1, 100) if num % 3 == 0 or num % 5 == 0}\r\n",
    "print(set4)"
   ],
   "outputs": [
    {
     "output_type": "stream",
     "name": "stdout",
     "text": [
      "{1, 2, 3}\n",
      "length= 3\n",
      "{1, 2, 3, 4, 5, 6, 7, 8, 9}\n",
      "{3, 5, 6, 9, 10, 12, 15, 18, 20, 21, 24, 25, 27, 30, 33, 35, 36, 39, 40, 42, 45, 48, 50, 51, 54, 55, 57, 60, 63, 65, 66, 69, 70, 72, 75, 78, 80, 81, 84, 85, 87, 90, 93, 95, 96, 99}\n"
     ]
    }
   ],
   "metadata": {}
  },
  {
   "cell_type": "markdown",
   "source": [
    "使用集合(向集合添加元素和從集合刪除元素)"
   ],
   "metadata": {}
  },
  {
   "cell_type": "code",
   "execution_count": 141,
   "source": [
    "set1.add(4)\r\n",
    "set1.add(5)\r\n",
    "print(set1)\r\n",
    "set2.update([11, 12])\r\n",
    "print(set2)\r\n",
    "set2.discard(5)\r\n",
    "print(set2)\r\n",
    "if 4 in set2:\r\n",
    "    set2.remove(4)\r\n",
    "print(set1, set2)\r\n",
    "print(set3.pop())\r\n",
    "print(set1)\r\n",
    "print(set2)\r\n",
    "print(set3)\r\n"
   ],
   "outputs": [
    {
     "output_type": "stream",
     "name": "stdout",
     "text": [
      "{1, 2, 3, 4, 5}\n",
      "{1, 2, 3, 4, 5, 6, 7, 8, 9, 11, 12}\n",
      "{1, 2, 3, 4, 6, 7, 8, 9, 11, 12}\n",
      "{1, 2, 3, 4, 5} {1, 2, 3, 6, 7, 8, 9, 11, 12}\n",
      "1\n",
      "{1, 2, 3, 4, 5}\n",
      "{1, 2, 3, 6, 7, 8, 9, 11, 12}\n",
      "{2, 3}\n"
     ]
    }
   ],
   "metadata": {}
  },
  {
   "cell_type": "markdown",
   "source": [
    "使用集合(集合的成員、交集、並集、差集等運算)"
   ],
   "metadata": {}
  },
  {
   "cell_type": "code",
   "execution_count": 142,
   "source": [
    "print(set1 & set2)\r\n",
    "print(set1.intersection(set2))\r\n",
    "print(set1 | set2)\r\n",
    "print(set1.union(set2))\r\n",
    "print(set1 - set2)\r\n",
    "print(set1.difference(set2))\r\n",
    "print(set1 ^ set2)\r\n",
    "print(set1.symmetric_difference(set2))\r\n",
    "\r\n",
    "# 判斷子集合 及 超集合\r\n",
    "print(set2 <= set1)\r\n",
    "print(set2.issubset(set1))\r\n",
    "print(set3 <= set1)\r\n",
    "print(set3.issubset(set1))\r\n",
    "\r\n",
    "print(set1 >= set2)\r\n",
    "print(set1.issuperset(set2))\r\n",
    "print(set1 >= set3)\r\n",
    "print(set1.issuperset(set2))\r\n"
   ],
   "outputs": [
    {
     "output_type": "stream",
     "name": "stdout",
     "text": [
      "{1, 2, 3}\n",
      "{1, 2, 3}\n",
      "{1, 2, 3, 4, 5, 6, 7, 8, 9, 11, 12}\n",
      "{1, 2, 3, 4, 5, 6, 7, 8, 9, 11, 12}\n",
      "{4, 5}\n",
      "{4, 5}\n",
      "{4, 5, 6, 7, 8, 9, 11, 12}\n",
      "{4, 5, 6, 7, 8, 9, 11, 12}\n",
      "False\n",
      "False\n",
      "True\n",
      "True\n",
      "False\n",
      "False\n",
      "True\n",
      "False\n"
     ]
    }
   ],
   "metadata": {}
  },
  {
   "cell_type": "markdown",
   "source": [
    "使用字典"
   ],
   "metadata": {}
  },
  {
   "cell_type": "code",
   "execution_count": 143,
   "source": [
    "scores = {'Vin' : 95, 'Esther' : 78, 'John': 82}\r\n",
    "print(scores)\r\n",
    "items1 = dict(one=1, two=2, three=3)\r\n",
    "print(items1)\r\n",
    "items2 = dict(zip(['a', 'b', 'c'], '123'))\r\n",
    "print(items2)\r\n",
    "\r\n",
    "items3 = {num: num ** 2 for num in range(1, 10)}\r\n",
    "print(items3)\r\n",
    "\r\n",
    "print(scores['Vin'])\r\n",
    "\r\n",
    "for key in scores:\r\n",
    "    print(f'{key}:{scores[key]}')\r\n",
    "scores['Vin'] = 100\r\n",
    "scores['John'] = 60\r\n",
    "scores.update(Esther = 99)\r\n",
    "print(scores)\r\n",
    "if 'Esther' in scores:\r\n",
    "    print(scores['Esther'])\r\n",
    "print(scores.get('Vin'))\r\n",
    "print(scores.get('Vineeee', 60))\r\n",
    "print(scores.popitem())\r\n",
    "print(scores.popitem())\r\n",
    "print(scores.pop('Vinr', 60))\r\n",
    "scores.clear()\r\n",
    "print(scores)"
   ],
   "outputs": [
    {
     "output_type": "stream",
     "name": "stdout",
     "text": [
      "{'Vin': 95, 'Esther': 78, 'John': 82}\n",
      "{'one': 1, 'two': 2, 'three': 3}\n",
      "{'a': '1', 'b': '2', 'c': '3'}\n",
      "{1: 1, 2: 4, 3: 9, 4: 16, 5: 25, 6: 36, 7: 49, 8: 64, 9: 81}\n",
      "95\n",
      "Vin:95\n",
      "Esther:78\n",
      "John:82\n",
      "{'Vin': 100, 'Esther': 99, 'John': 60}\n",
      "99\n",
      "100\n",
      "60\n",
      "('John', 60)\n",
      "('Esther', 99)\n",
      "60\n",
      "{}\n"
     ]
    }
   ],
   "metadata": {}
  },
  {
   "cell_type": "markdown",
   "source": [
    "練習1：在屏幕上顯示跑馬燈文字"
   ],
   "metadata": {}
  },
  {
   "cell_type": "code",
   "execution_count": 144,
   "source": [
    "import os\r\n",
    "import time\r\n",
    "\r\n",
    "\r\n",
    "def main():\r\n",
    "    content = '歡迎測試....'\r\n",
    "    count = 0\r\n",
    "    while count < 4:\r\n",
    "        # 清理屏幕上的输出\r\n",
    "        os.system('cls')  # os.system('clear')\r\n",
    "        print(content)\r\n",
    "        # 休眠200毫秒\r\n",
    "        time.sleep(0.5)\r\n",
    "        content = content[1:] + content[0]\r\n",
    "        count += 1\r\n",
    "\r\n",
    "if __name__ == '__main__':\r\n",
    "    main()"
   ],
   "outputs": [
    {
     "output_type": "stream",
     "name": "stdout",
     "text": [
      "歡迎測試....\n",
      "迎測試....歡\n",
      "測試....歡迎\n",
      "試....歡迎測\n"
     ]
    }
   ],
   "metadata": {}
  },
  {
   "cell_type": "markdown",
   "source": [
    "練習2：設計一個函數產生指定長度的驗證碼，驗證碼由大小寫字母和數字構成"
   ],
   "metadata": {}
  },
  {
   "cell_type": "code",
   "execution_count": 145,
   "source": [
    "import random\r\n",
    "\r\n",
    "def generate_code(code_len=6):\r\n",
    "    all_chars = '0123456789abcdefghijklmnopqrstuvwxyzABCDEFGHIJKLMNOPQRSTUVWXYZ'\r\n",
    "    last_pos = len(all_chars) - 1\r\n",
    "    code = ''\r\n",
    "\r\n",
    "    for _ in range(code_len):\r\n",
    "        index = random.randint(0, last_pos)\r\n",
    "        code += all_chars[index]\r\n",
    "    return code\r\n",
    "\r\n",
    "generate_code()\r\n"
   ],
   "outputs": [
    {
     "output_type": "execute_result",
     "data": {
      "text/plain": [
       "'u4oGhi'"
      ]
     },
     "metadata": {},
     "execution_count": 145
    }
   ],
   "metadata": {}
  },
  {
   "cell_type": "markdown",
   "source": [
    "練習3：設計一個函數返回給定文件名的後綴名"
   ],
   "metadata": {}
  },
  {
   "cell_type": "code",
   "execution_count": 164,
   "source": [
    "def get_suffix(filename, has_dot=False):\r\n",
    "    pos = filename.rfind('.')\r\n",
    "    print(pos)\r\n",
    "    if 0 < pos < len(filename) - 1:\r\n",
    "        return filename[index+1:]\r\n",
    "    else:\r\n",
    "        return ''\r\n",
    "\r\n",
    "get_suffix('test.docx')"
   ],
   "outputs": [
    {
     "output_type": "stream",
     "name": "stdout",
     "text": [
      "4\n"
     ]
    },
    {
     "output_type": "execute_result",
     "data": {
      "text/plain": [
       "'dddocx'"
      ]
     },
     "metadata": {},
     "execution_count": 164
    }
   ],
   "metadata": {}
  },
  {
   "cell_type": "markdown",
   "source": [
    "練習4：設計一個函數返回傳入的列表中最大和第二大的元素的值"
   ],
   "metadata": {}
  },
  {
   "cell_type": "code",
   "execution_count": 168,
   "source": [
    "def max2(x):\r\n",
    "    m1, m2 = (x[0], x[1]) if x[0] > x[1] else (x[1], x[0])\r\n",
    "    for index in range(2, len(x)):\r\n",
    "        if x[index] > m1:\r\n",
    "            m2 = m1\r\n",
    "            m1 = x[index]\r\n",
    "        elif x[index] > m2:\r\n",
    "            m2 = x[index]\r\n",
    "    return m1, m2\r\n",
    "test = [1, 2, 3, 4, 5]\r\n",
    "max2(test)\r\n"
   ],
   "outputs": [
    {
     "output_type": "execute_result",
     "data": {
      "text/plain": [
       "(5, 4)"
      ]
     },
     "metadata": {},
     "execution_count": 168
    }
   ],
   "metadata": {}
  }
 ],
 "metadata": {
  "orig_nbformat": 4,
  "language_info": {
   "name": "python",
   "version": "3.8.5",
   "mimetype": "text/x-python",
   "codemirror_mode": {
    "name": "ipython",
    "version": 3
   },
   "pygments_lexer": "ipython3",
   "nbconvert_exporter": "python",
   "file_extension": ".py"
  },
  "kernelspec": {
   "name": "python3",
   "display_name": "Python 3.8.5 64-bit ('base': conda)"
  },
  "interpreter": {
   "hash": "97ae724bfa85b9b34df7982b8bb8c7216f435b92902d749e4263f71162bea840"
  }
 },
 "nbformat": 4,
 "nbformat_minor": 2
}