{
 "cells": [
  {
   "cell_type": "markdown",
   "source": [
    "變數的使用"
   ],
   "metadata": {}
  },
  {
   "cell_type": "code",
   "execution_count": 2,
   "source": [
    "a = 321\r\n",
    "b = 12\r\n",
    "print(a + b)\r\n",
    "print(a - b)\r\n",
    "print(a * b)\r\n",
    "print(a / b)"
   ],
   "outputs": [
    {
     "output_type": "stream",
     "name": "stdout",
     "text": [
      "333\n",
      "309\n",
      "3852\n",
      "26.75\n"
     ]
    }
   ],
   "metadata": {}
  },
  {
   "cell_type": "code",
   "execution_count": 4,
   "source": [
    "a = 100\r\n",
    "b = 12.345\r\n",
    "c = 1 + 5j\r\n",
    "d = 'hello'\r\n",
    "e = True\r\n",
    "\r\n",
    "print(type(a))\r\n",
    "print(type(b))\r\n",
    "print(type(c))\r\n",
    "print(type(d))\r\n",
    "print(type(e))"
   ],
   "outputs": [
    {
     "output_type": "stream",
     "name": "stdout",
     "text": [
      "<class 'int'>\n",
      "<class 'float'>\n",
      "<class 'complex'>\n",
      "<class 'str'>\n",
      "<class 'bool'>\n"
     ]
    }
   ],
   "metadata": {}
  },
  {
   "cell_type": "markdown",
   "source": [
    "轉換型別"
   ],
   "metadata": {}
  },
  {
   "cell_type": "code",
   "execution_count": 7,
   "source": [
    "a = int(input('a='))\r\n",
    "b = int(input('b='))\r\n",
    "print('%d + %d = %d' % (a, b, a + b))\r\n",
    "print('%d - %d = %d' % (a, b, a - b))\r\n",
    "print('%d * %d = %d' % (a, b, a * b))\r\n",
    "print('%d / %d = %d' % (a, b, a / b))\r\n",
    "print('%d // %d = %d' % (a, b, a // b))\r\n",
    "print('%d %% %d = %d' % (a, b, a % b))\r\n",
    "print('%d ** %d = %d' % (a, b, a ** b))"
   ],
   "outputs": [
    {
     "output_type": "stream",
     "name": "stdout",
     "text": [
      "10 + 2 = 12\n",
      "10 - 2 = 8\n",
      "10 * 2 = 20\n",
      "10 / 2 = 5\n",
      "10 // 2 = 5\n",
      "10 % 2 = 0\n",
      "10 ** 2 = 100\n"
     ]
    }
   ],
   "metadata": {}
  },
  {
   "cell_type": "markdown",
   "source": [
    "賦值運算符"
   ],
   "metadata": {}
  },
  {
   "cell_type": "code",
   "execution_count": 8,
   "source": [
    "a = 10\r\n",
    "b = 3\r\n",
    "a += b\r\n",
    "a *= a + 2\r\n",
    "print(a)"
   ],
   "outputs": [
    {
     "output_type": "stream",
     "name": "stdout",
     "text": [
      "195\n"
     ]
    }
   ],
   "metadata": {}
  },
  {
   "cell_type": "markdown",
   "source": [
    "比較運算符和邏輯運算符的使用"
   ],
   "metadata": {}
  },
  {
   "cell_type": "code",
   "execution_count": 5,
   "source": [
    "flag0 = 1 == 1\r\n",
    "flag1 = 3 > 2\r\n",
    "flag2 = 2 < 1\r\n",
    "flag3 = flag1 and flag2\r\n",
    "flag4 = flag1 or flag2\r\n",
    "flag5 = not (1 != 2)\r\n",
    "print('flag0 =',flag0)\r\n",
    "print('flag1 =',flag1)\r\n",
    "print('flag2 =',flag2)\r\n",
    "print('flag3 =',flag3)\r\n",
    "print('flag4 =',flag4)\r\n",
    "print('flag5 =',flag5)"
   ],
   "outputs": [
    {
     "output_type": "stream",
     "name": "stdout",
     "text": [
      "flag0 = True\n",
      "flag1 = True\n",
      "flag2 = False\n",
      "flag3 = False\n",
      "flag4 = True\n",
      "flag5 = False\n"
     ]
    }
   ],
   "metadata": {}
  },
  {
   "cell_type": "markdown",
   "source": [
    "練習1：華氏溫度轉換為攝氏溫度"
   ],
   "metadata": {}
  },
  {
   "cell_type": "code",
   "execution_count": 6,
   "source": [
    "f = float(input('請輸入F溫度='))\r\n",
    "c = (f - 32) / 1.8\r\n",
    "print('%.1f F = %.1f C' % (f, c))"
   ],
   "outputs": [
    {
     "output_type": "stream",
     "name": "stdout",
     "text": [
      "35.0 F = 1.7 C\n"
     ]
    }
   ],
   "metadata": {}
  }
 ],
 "metadata": {
  "orig_nbformat": 4,
  "language_info": {
   "name": "python",
   "version": "3.8.5",
   "mimetype": "text/x-python",
   "codemirror_mode": {
    "name": "ipython",
    "version": 3
   },
   "pygments_lexer": "ipython3",
   "nbconvert_exporter": "python",
   "file_extension": ".py"
  },
  "kernelspec": {
   "name": "python3",
   "display_name": "Python 3.8.5 64-bit ('base': conda)"
  },
  "interpreter": {
   "hash": "97ae724bfa85b9b34df7982b8bb8c7216f435b92902d749e4263f71162bea840"
  }
 },
 "nbformat": 4,
 "nbformat_minor": 2
}