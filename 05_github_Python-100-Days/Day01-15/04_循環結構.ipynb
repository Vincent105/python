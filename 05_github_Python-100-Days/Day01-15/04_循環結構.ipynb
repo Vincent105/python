{
 "cells": [
  {
   "cell_type": "code",
   "execution_count": 2,
   "source": [
    "sum = 0\r\n",
    "for x in range(101):\r\n",
    "    sum += x\r\n",
    "print(sum)"
   ],
   "outputs": [
    {
     "output_type": "stream",
     "name": "stdout",
     "text": [
      "5050\n"
     ]
    }
   ],
   "metadata": {}
  },
  {
   "cell_type": "code",
   "execution_count": 3,
   "source": [
    "sum = 0\r\n",
    "for x in range(2, 101, 2):\r\n",
    "    sum += x\r\n",
    "print(sum)"
   ],
   "outputs": [
    {
     "output_type": "stream",
     "name": "stdout",
     "text": [
      "2550\n"
     ]
    }
   ],
   "metadata": {}
  },
  {
   "cell_type": "code",
   "execution_count": 4,
   "source": [
    "sum = 0\r\n",
    "for x in range(1, 101):\r\n",
    "    if x % 2 == 0:\r\n",
    "        sum += x\r\n",
    "print(sum)\r\n"
   ],
   "outputs": [
    {
     "output_type": "stream",
     "name": "stdout",
     "text": [
      "2550\n"
     ]
    }
   ],
   "metadata": {}
  },
  {
   "cell_type": "markdown",
   "source": [
    "while循環"
   ],
   "metadata": {}
  },
  {
   "cell_type": "code",
   "execution_count": 6,
   "source": [
    "import random\r\n",
    "\r\n",
    "answer = random.randint(1, 100)\r\n",
    "counter = 0\r\n",
    "\r\n",
    "while True:\r\n",
    "    counter += 1\r\n",
    "    number = int(input('請輸入一個數字:'))\r\n",
    "    if number < answer:\r\n",
    "        print('請輸入大一點的數字')\r\n",
    "    elif number > answer:\r\n",
    "        print('請輸入小一點的數字')\r\n",
    "    else:\r\n",
    "        print('恭喜答對')\r\n",
    "        break\r\n",
    "print('總共猜了 %d 次' % counter)\r\n",
    "if counter > 7:\r\n",
    "    print('不好猜吧!')"
   ],
   "outputs": [
    {
     "output_type": "stream",
     "name": "stdout",
     "text": [
      "請輸入大一點的數字\n",
      "請輸入小一點的數字\n",
      "請輸入小一點的數字\n",
      "請輸入大一點的數字\n",
      "請輸入小一點的數字\n",
      "請輸入小一點的數字\n",
      "恭喜答對\n",
      "總共猜了 7 次\n"
     ]
    }
   ],
   "metadata": {}
  },
  {
   "cell_type": "markdown",
   "source": [
    "暴力搜尋法"
   ],
   "metadata": {}
  },
  {
   "cell_type": "code",
   "execution_count": 4,
   "source": [
    "for x in range(0, 20):\r\n",
    "    for y in range(0, 34):\r\n",
    "        z = 100 - x - y\r\n",
    "        if 5 * x + 3 * y + z / 3 == 100:\r\n",
    "            print('公雞: %d隻, 母雞: %d隻, 小鴨: %d隻' % (x, y, z))"
   ],
   "outputs": [
    {
     "output_type": "stream",
     "name": "stdout",
     "text": [
      "公雞: 0隻, 母雞: 25隻, 小鴨: 75隻\n",
      "公雞: 4隻, 母雞: 18隻, 小鴨: 78隻\n",
      "公雞: 8隻, 母雞: 11隻, 小鴨: 81隻\n",
      "公雞: 12隻, 母雞: 4隻, 小鴨: 84隻\n"
     ]
    }
   ],
   "metadata": {}
  }
 ],
 "metadata": {
  "orig_nbformat": 4,
  "language_info": {
   "name": "python",
   "version": "3.8.5",
   "mimetype": "text/x-python",
   "codemirror_mode": {
    "name": "ipython",
    "version": 3
   },
   "pygments_lexer": "ipython3",
   "nbconvert_exporter": "python",
   "file_extension": ".py"
  },
  "kernelspec": {
   "name": "python3",
   "display_name": "Python 3.8.5 64-bit ('base': conda)"
  },
  "interpreter": {
   "hash": "97ae724bfa85b9b34df7982b8bb8c7216f435b92902d749e4263f71162bea840"
  }
 },
 "nbformat": 4,
 "nbformat_minor": 2
}