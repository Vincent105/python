{
 "cells": [
  {
   "cell_type": "code",
   "execution_count": 5,
   "source": [
    "from random import randint\r\n",
    "\r\n",
    "def roll_dice(n = 2):\r\n",
    "    total = 0\r\n",
    "    for _ in range(n):\r\n",
    "        total += randint(1, 6)\r\n",
    "    return total\r\n",
    "\r\n",
    "def add (a=0, b=0, c=0):\r\n",
    "    return a + b + c\r\n",
    "\r\n",
    "print(roll_dice())\r\n",
    "print(roll_dice(3))\r\n",
    "print(add(1))\r\n",
    "print(add(1, 2))\r\n",
    "print(add(1, 2, 3))\r\n",
    "print(add(c=10, b=2, a=3))"
   ],
   "outputs": [
    {
     "output_type": "stream",
     "name": "stdout",
     "text": [
      "8\n",
      "13\n",
      "1\n",
      "3\n",
      "6\n",
      "15\n"
     ]
    }
   ],
   "metadata": {}
  },
  {
   "cell_type": "markdown",
   "source": [
    "可變參數"
   ],
   "metadata": {}
  },
  {
   "cell_type": "code",
   "execution_count": 8,
   "source": [
    "def add(*args):\r\n",
    "    total = 0\r\n",
    "    for val in args:\r\n",
    "        total += val\r\n",
    "    return total\r\n",
    "\r\n",
    "print(add())\r\n",
    "print(add(1))\r\n",
    "print(add(1, 2))\r\n",
    "print(add(1, 2, 3))\r\n",
    "print(add(1, 3, 5, 7))\r\n",
    "print(add(1, 3, 5, 7, 9))"
   ],
   "outputs": [
    {
     "output_type": "stream",
     "name": "stdout",
     "text": [
      "0\n",
      "1\n",
      "3\n",
      "6\n",
      "16\n",
      "25\n"
     ]
    }
   ],
   "metadata": {}
  },
  {
   "cell_type": "code",
   "execution_count": 9,
   "source": [
    "def foo():\r\n",
    "    print('hello world!')\r\n",
    "def foo():\r\n",
    "    print('goodbye world!')\r\n",
    "\r\n",
    "foo()"
   ],
   "outputs": [
    {
     "output_type": "stream",
     "name": "stdout",
     "text": [
      "goodbye world!\n"
     ]
    }
   ],
   "metadata": {}
  },
  {
   "cell_type": "code",
   "execution_count": 1,
   "source": [
    "import module1 as m1\r\n",
    "import module2 as m2\r\n",
    "\r\n",
    "m1.foo()\r\n",
    "m2.foo()"
   ],
   "outputs": [
    {
     "output_type": "stream",
     "name": "stdout",
     "text": [
      "hello world!\n",
      "goodbye, world!\n"
     ]
    }
   ],
   "metadata": {}
  },
  {
   "cell_type": "markdown",
   "source": [
    "變量的作用域"
   ],
   "metadata": {}
  },
  {
   "cell_type": "code",
   "execution_count": 17,
   "source": [
    "def foo():\r\n",
    "    # a = 200\r\n",
    "    global a\r\n",
    "    a = 500\r\n",
    "    b = 'hello'\r\n",
    "\r\n",
    "    # Python中可以在函数内部再定义函数\r\n",
    "    def bar():\r\n",
    "        c = True\r\n",
    "        print('a =',a)\r\n",
    "        print(b)\r\n",
    "        print(c)\r\n",
    "\r\n",
    "    bar()\r\n",
    "    # print(c)  # NameError: name 'c' is not defined\r\n",
    "\r\n",
    "\r\n",
    "if __name__ == '__main__':\r\n",
    "    a = 100\r\n",
    "    # print(b)  # NameError: name 'b' is not defined\r\n",
    "    foo()\r\n",
    "    print('a =',a)"
   ],
   "outputs": [
    {
     "output_type": "stream",
     "name": "stdout",
     "text": [
      "a= 500\n",
      "hello\n",
      "True\n",
      "a= 500\n"
     ]
    }
   ],
   "metadata": {}
  },
  {
   "cell_type": "code",
   "execution_count": 22,
   "source": [
    "def main():\r\n",
    "    print('test')\r\n",
    "\r\n",
    "if __name__ == '__main__':\r\n",
    "    main()"
   ],
   "outputs": [
    {
     "output_type": "stream",
     "name": "stdout",
     "text": [
      "test\n"
     ]
    }
   ],
   "metadata": {}
  }
 ],
 "metadata": {
  "orig_nbformat": 4,
  "language_info": {
   "name": "python",
   "version": "3.8.5",
   "mimetype": "text/x-python",
   "codemirror_mode": {
    "name": "ipython",
    "version": 3
   },
   "pygments_lexer": "ipython3",
   "nbconvert_exporter": "python",
   "file_extension": ".py"
  },
  "kernelspec": {
   "name": "python3",
   "display_name": "Python 3.8.5 64-bit ('base': conda)"
  },
  "interpreter": {
   "hash": "97ae724bfa85b9b34df7982b8bb8c7216f435b92902d749e4263f71162bea840"
  }
 },
 "nbformat": 4,
 "nbformat_minor": 2
}