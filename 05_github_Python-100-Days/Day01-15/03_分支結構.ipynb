{
 "cells": [
  {
   "cell_type": "markdown",
   "source": [
    "if語句的使用"
   ],
   "metadata": {}
  },
  {
   "cell_type": "code",
   "execution_count": 3,
   "source": [
    "username = input('請輸入使用者名稱:')\r\n",
    "password = input('請輸入密碼:')\r\n",
    "\r\n",
    "if username == 'admin' and password == '123456':\r\n",
    "    print('驗證通過')\r\n",
    "else:\r\n",
    "    print('驗證失敗')"
   ],
   "outputs": [
    {
     "output_type": "stream",
     "name": "stdout",
     "text": [
      "驗證失敗\n"
     ]
    }
   ],
   "metadata": {}
  },
  {
   "cell_type": "code",
   "execution_count": 7,
   "source": [
    "x = float(input('x = '))\r\n",
    "if x > 1:\r\n",
    "    y = 3 * x - 5\r\n",
    "elif x >= -1 and x <= 1:\r\n",
    "    y = x + 2\r\n",
    "else:\r\n",
    "    y = 5 * x + 3\r\n",
    "\r\n",
    "print('f(%.2f) = %.2f' % (x, y))\r\n"
   ],
   "outputs": [
    {
     "output_type": "stream",
     "name": "stdout",
     "text": [
      "f(11.00) = 28.00\n"
     ]
    }
   ],
   "metadata": {}
  },
  {
   "cell_type": "markdown",
   "source": [
    "嵌套"
   ],
   "metadata": {}
  },
  {
   "cell_type": "code",
   "execution_count": 8,
   "source": [
    "x = float(input('x='))\r\n",
    "if x > 1:\r\n",
    "    y = 3 * x - 5\r\n",
    "else:\r\n",
    "    if x >= -1:\r\n",
    "        y = x + 2\r\n",
    "    else:\r\n",
    "        y = 5 * x + 3\r\n",
    "print('f(%.2f) =  %.2f' % (x, y))\r\n"
   ],
   "outputs": [
    {
     "output_type": "stream",
     "name": "stdout",
     "text": [
      "f(11.00) =  28.00\n"
     ]
    }
   ],
   "metadata": {}
  }
 ],
 "metadata": {
  "orig_nbformat": 4,
  "language_info": {
   "name": "python",
   "version": "3.8.5",
   "mimetype": "text/x-python",
   "codemirror_mode": {
    "name": "ipython",
    "version": 3
   },
   "pygments_lexer": "ipython3",
   "nbconvert_exporter": "python",
   "file_extension": ".py"
  },
  "kernelspec": {
   "name": "python3",
   "display_name": "Python 3.8.5 64-bit ('base': conda)"
  },
  "interpreter": {
   "hash": "97ae724bfa85b9b34df7982b8bb8c7216f435b92902d749e4263f71162bea840"
  }
 },
 "nbformat": 4,
 "nbformat_minor": 2
}