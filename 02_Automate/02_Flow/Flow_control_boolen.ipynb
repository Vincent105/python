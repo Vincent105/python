{
 "nbformat": 4,
 "nbformat_minor": 2,
 "metadata": {
  "language_info": {
   "name": "python",
   "codemirror_mode": {
    "name": "ipython",
    "version": 3
   },
   "version": "3.7.5"
  },
  "orig_nbformat": 2,
  "file_extension": ".py",
  "mimetype": "text/x-python",
  "name": "python",
  "npconvert_exporter": "python",
  "pygments_lexer": "ipython3",
  "version": 3
 },
 "cells": [
  {
   "cell_type": "markdown",
   "execution_count": null,
   "metadata": {},
   "outputs": [],
   "source": [
    "#### boolen布林值"
   ]
  },
  {
   "cell_type": "code",
   "execution_count": 2,
   "metadata": {},
   "outputs": [
    {
     "name": "stdout",
     "output_type": "stream",
     "text": "True\n42 = 42 ?:True\n42 = 99 ?:False\n2 != 3 ?:True\n2 != 2 ?:False\n"
    }
   ],
   "source": [
    "spam = True\n",
    "print(spam)\n",
    "\n",
    "print('42 = 42 ?:' + str(42 == 42))\n",
    "print('42 = 99 ?:' + str(42 == 99))\n",
    "print('2 != 3 ?:' + str(2 != 3))\n",
    "print('2 != 2 ?:' + str(2 != 2))"
   ]
  },
  {
   "cell_type": "code",
   "execution_count": 3,
   "metadata": {},
   "outputs": [
    {
     "name": "stdout",
     "output_type": "stream",
     "text": "'hello' == 'hello' ?:True\n'Hello' == 'hello' ?:False\n'dog' == 'cat' ?:False\n'True' == 'True' ?:True\n'True' != 'False' ?:True\n"
    }
   ],
   "source": [
    "print(\"'hello' == 'hello' ?:\" + str('hello' == 'hello'))\n",
    "print(\"'Hello' == 'hello' ?:\" + str('Hello' == 'hello'))\n",
    "print(\"'dog' == 'cat' ?:\" + str('dog' == 'cat'))\n",
    "print(\"'True' == 'True' ?:\" + str(True == True))\n",
    "print(\"'True' != 'False' ?:\" + str(True != False))"
   ]
  },
  {
   "cell_type": "code",
   "execution_count": 4,
   "metadata": {},
   "outputs": [
    {
     "name": "stdout",
     "output_type": "stream",
     "text": "40 == 40.0 ?:True\n42 == '42 ?:False\n42 < 100 ?:True\n42 > 100 ?:False\n"
    }
   ],
   "source": [
    "print(\"40 == 40.0 ?:\" + str(40 == 40.0))\n",
    "print(\"42 == '42 ?:\" + str(42 == '42'))\n",
    "print(\"42 < 100 ?:\" + str(42 < 100))\n",
    "print(\"42 > 100 ?:\" + str(42 > 100))"
   ]
  },
  {
   "cell_type": "code",
   "execution_count": 5,
   "metadata": {},
   "outputs": [
    {
     "name": "stdout",
     "output_type": "stream",
     "text": "eggCount= 42;eggCount>= 42 ?:True\n"
    }
   ],
   "source": [
    "eggCount = 42\n",
    "print(\"eggCount= 42;eggCount>= 42 ?:\" + str(eggCount >= 42))"
   ]
  },
  {
   "cell_type": "code",
   "execution_count": 6,
   "metadata": {},
   "outputs": [
    {
     "name": "stdout",
     "output_type": "stream",
     "text": "Wrong password.\n"
    }
   ],
   "source": [
    "name = ''\n",
    "password = ''\n",
    "\n",
    "if name == 'Mary':\n",
    "    print('Hello Mary.')\n",
    "if password == 'swordfish':\n",
    "    print('Access granted.')\n",
    "else:\n",
    "    print('Wrong password.')\t"
   ]
  },
  {
   "cell_type": "code",
   "execution_count": null,
   "metadata": {},
   "outputs": [],
   "source": []
  }
 ]
}