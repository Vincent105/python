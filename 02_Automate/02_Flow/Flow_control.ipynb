{
 "nbformat": 4,
 "nbformat_minor": 2,
 "metadata": {
  "language_info": {
   "name": "python",
   "codemirror_mode": {
    "name": "ipython",
    "version": 3
   },
   "version": "3.7.5"
  },
  "orig_nbformat": 2,
  "file_extension": ".py",
  "mimetype": "text/x-python",
  "name": "python",
  "npconvert_exporter": "python",
  "pygments_lexer": "ipython3",
  "version": 3
 },
 "cells": [
  {
   "cell_type": "markdown",
   "execution_count": null,
   "metadata": {},
   "outputs": [],
   "source": [
    "#### 控制流"
   ]
  },
  {
   "cell_type": "markdown",
   "execution_count": 1,
   "metadata": {},
   "outputs": [
    {
     "ename": "SyntaxError",
     "evalue": "invalid syntax (<ipython-input-1-d80ea9390313>, line 1)",
     "output_type": "error",
     "traceback": [
      "\u001b[1;36m  File \u001b[1;32m\"<ipython-input-1-d80ea9390313>\"\u001b[1;36m, line \u001b[1;32m1\u001b[0m\n\u001b[1;33m    ** if 語句\u001b[0m\n\u001b[1;37m     ^\u001b[0m\n\u001b[1;31mSyntaxError\u001b[0m\u001b[1;31m:\u001b[0m invalid syntax\n"
     ]
    }
   ],
   "source": [
    "    - if 語句"
   ]
  },
  {
   "cell_type": "code",
   "execution_count": 2,
   "metadata": {},
   "outputs": [
    {
     "name": "stdout",
     "output_type": "stream",
     "text": "Hi Vincent.\n"
    }
   ],
   "source": [
    "name = 'Vincent'\n",
    "if name == 'Vincent':\n",
    "    print('Hi Vincent.')"
   ]
  },
  {
   "cell_type": "markdown",
   "execution_count": null,
   "metadata": {},
   "outputs": [],
   "source": [
    "    - else 語句"
   ]
  },
  {
   "cell_type": "code",
   "execution_count": 4,
   "metadata": {},
   "outputs": [
    {
     "name": "stdout",
     "output_type": "stream",
     "text": "Hi Esther.\n"
    }
   ],
   "source": [
    "name = 'Esther'\n",
    "if name == 'Vincent':\n",
    "    print('Hi Vincent.')\n",
    "else:\n",
    "    print('Hi '+ name + '.')    "
   ]
  },
  {
   "cell_type": "markdown",
   "execution_count": null,
   "metadata": {},
   "outputs": [],
   "source": [
    "    - elif 語句"
   ]
  },
  {
   "cell_type": "code",
   "execution_count": 7,
   "metadata": {},
   "outputs": [
    {
     "name": "stdout",
     "output_type": "stream",
     "text": "You're not Vincent.\n"
    }
   ],
   "source": [
    "name = 'Esther'\n",
    "age = 1\n",
    "if name == 'Vincent':\n",
    "    print('Hi Vincent.')\n",
    "elif age < 30:\n",
    "    print(\"You're not Vincent.\")    \n",
    "else:\n",
    "    print('Hi '+ name + '.')   "
   ]
  },
  {
   "source": [
    "name = 'Vincent'\n",
    "age = 311\n",
    "if name == 'Alice':\n",
    "    print('Hi, Alice.')\n",
    "elif age < 12:\n",
    "    print('You are not Alice, kiddo.')\n",
    "elif age > 2000:\n",
    "    print('Unlike you, Alice is not an undead, immortal vampire.')\n",
    "elif age > 100:\n",
    "    print('You are not Alice, grannie.')\n",
    "else:\n",
    "    print('Hi '+ name + '.')       "
   ],
   "cell_type": "code",
   "outputs": [
    {
     "output_type": "stream",
     "name": "stdout",
     "text": "You are not Alice, grannie.\n"
    }
   ],
   "metadata": {},
   "execution_count": 16
  },
  {
   "cell_type": "code",
   "execution_count": null,
   "metadata": {},
   "outputs": [],
   "source": []
  }
 ]
}