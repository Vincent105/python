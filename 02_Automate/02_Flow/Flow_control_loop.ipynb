{
 "nbformat": 4,
 "nbformat_minor": 2,
 "metadata": {
  "language_info": {
   "name": "python",
   "codemirror_mode": {
    "name": "ipython",
    "version": 3
   },
   "version": "3.7.5"
  },
  "orig_nbformat": 2,
  "file_extension": ".py",
  "mimetype": "text/x-python",
  "name": "python",
  "npconvert_exporter": "python",
  "pygments_lexer": "ipython3",
  "version": 3
 },
 "cells": [
  {
   "cell_type": "code",
   "execution_count": 4,
   "metadata": {},
   "outputs": [
    {
     "name": "stdout",
     "output_type": "stream",
     "text": "test loop V1\nVincent (0)\nVincent (1)\nVincent (2)\nVincent (3)\nVincent (4)\n"
    }
   ],
   "source": [
    "# use range doing for loop\n",
    "print('test loop V1')\n",
    "for i in range(5):\n",
    "\tprint('Vincent' + ' (' + str(i) + ')')\n",
    "\tcontinue"
   ]
  },
  {
   "cell_type": "code",
   "execution_count": 3,
   "metadata": {},
   "outputs": [
    {
     "name": "stdout",
     "output_type": "stream",
     "text": "test loop V2\nVincent (0)\nVincent (1)\nVincent (2)\nVincent (3)\nVincent (4)\n"
    }
   ],
   "source": [
    "# use while doing loop\n",
    "print('test loop V2')\n",
    "i = 0\n",
    "while i < 5:\n",
    "\tprint('Vincent' + ' (' + str(i) + ')')\n",
    "\ti += 1\t"
   ]
  },
  {
   "cell_type": "code",
   "execution_count": 1,
   "metadata": {},
   "outputs": [
    {
     "name": "stdout",
     "output_type": "stream",
     "text": "Hello\n\nHello\nHello\nHello\nHello\nHello\n"
    }
   ],
   "source": [
    "#if 與 while 行為不同\n",
    "spam = 0\n",
    "if spam < 5 :\n",
    "\tprint('Hello\\n')\n",
    "\tspam = spam + 1\n",
    "\n",
    "spam = 0\n",
    "while spam < 5 :\t\n",
    "\tprint('Hello')\n",
    "\tspam = spam + 1\t"
   ]
  },
  {
   "cell_type": "code",
   "execution_count": 6,
   "metadata": {},
   "outputs": [
    {
     "name": "stdout",
     "output_type": "stream",
     "text": "5050\n"
    }
   ],
   "source": [
    "# 利用range及for，0加到100\n",
    "total = 0\n",
    "\n",
    "for sumup in range(101):\n",
    "\ttotal = total + sumup\n",
    "print(total)\t"
   ]
  },
  {
   "cell_type": "code",
   "execution_count": 7,
   "metadata": {},
   "outputs": [
    {
     "name": "stdout",
     "output_type": "stream",
     "text": "12\n13\n14\n15\n0\n3\n6\n9\n12\n15\n5\n4\n3\n2\n1\n0\n"
    }
   ],
   "source": [
    "# range的參數\n",
    "for i in range(12,16):\n",
    "\tprint(i)\n",
    "\n",
    "for i in range(0,16,3):\n",
    "\tprint(i)\t\n",
    "\n",
    "for i in range(5,-1,-1):\n",
    "\tprint(i)\t"
   ]
  },
  {
   "cell_type": "code",
   "execution_count": null,
   "metadata": {},
   "outputs": [],
   "source": []
  }
 ]
}