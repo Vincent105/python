{
 "nbformat": 4,
 "nbformat_minor": 2,
 "metadata": {
  "language_info": {
   "name": "python",
   "codemirror_mode": {
    "name": "ipython",
    "version": 3
   },
   "version": "3.7.5"
  },
  "orig_nbformat": 2,
  "file_extension": ".py",
  "mimetype": "text/x-python",
  "name": "python",
  "npconvert_exporter": "python",
  "pygments_lexer": "ipython3",
  "version": 3
 },
 "cells": [
  {
   "cell_type": "code",
   "execution_count": 1,
   "metadata": {},
   "outputs": [
    {
     "name": "stdout",
     "output_type": "stream",
     "text": "0\n1\n2\n3\n0\n1\n2\n3\n"
    }
   ],
   "source": [
    "for i in range(4):\n",
    "\tprint(i)\n",
    "\n",
    "for i in [0,1,2,3]:\t\n",
    "\tprint(i)"
   ]
  },
  {
   "cell_type": "markdown",
   "execution_count": null,
   "metadata": {},
   "outputs": [],
   "source": [
    "    常用技巧"
   ]
  },
  {
   "cell_type": "code",
   "execution_count": 2,
   "metadata": {},
   "outputs": [
    {
     "name": "stdout",
     "output_type": "stream",
     "text": "Index:0 in supplies is: pens\nIndex:1 in supplies is: staplers\nIndex:2 in supplies is: flame-throwers\nIndex:3 in supplies is: binders\n"
    }
   ],
   "source": [
    "supplies = ['pens', 'staplers', 'flame-throwers', 'binders']\n",
    "for i in range(len(supplies)):\n",
    "    print('Index:' + str(i) + ' in supplies is: ' + supplies[i])"
   ]
  },
  {
   "cell_type": "markdown",
   "execution_count": null,
   "metadata": {},
   "outputs": [],
   "source": [
    "    in not in "
   ]
  },
  {
   "cell_type": "code",
   "execution_count": 6,
   "metadata": {},
   "outputs": [
    {
     "name": "stdout",
     "output_type": "stream",
     "text": "True\nFalse\nFalse\nTrue\n"
    }
   ],
   "source": [
    "print('howdy' in ['hello', 'hi', 'howdy', 'heyas'])\n",
    "spam = ['hello', 'hi', 'howdy', 'heyas']\n",
    "print('cat' in spam)\n",
    "print('howdy' not in spam)\n",
    "print('cat' not in spam)"
   ]
  }
 ]
}