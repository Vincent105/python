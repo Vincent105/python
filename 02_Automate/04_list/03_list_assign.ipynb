{
 "nbformat": 4,
 "nbformat_minor": 2,
 "metadata": {
  "language_info": {
   "name": "python",
   "codemirror_mode": {
    "name": "ipython",
    "version": 3
   },
   "version": "3.7.5"
  },
  "orig_nbformat": 2,
  "file_extension": ".py",
  "mimetype": "text/x-python",
  "name": "python",
  "npconvert_exporter": "python",
  "pygments_lexer": "ipython3",
  "version": 3
 },
 "cells": [
  {
   "cell_type": "markdown",
   "execution_count": 4,
   "metadata": {},
   "outputs": [
    {
     "name": "stdout",
     "output_type": "stream",
     "text": "fat\nblack\nloud\n"
    }
   ],
   "source": [
    "    多重賦值"
   ]
  },
  {
   "cell_type": "code",
   "execution_count": 5,
   "metadata": {},
   "outputs": [
    {
     "name": "stdout",
     "output_type": "stream",
     "text": "fat\nblack\nloud\n"
    }
   ],
   "source": [
    "cat = ['fat', 'black', 'loud']\n",
    "size, color, disposition = cat\n",
    "print(size)\n",
    "print(color)\n",
    "print(disposition)"
   ]
  },
  {
   "cell_type": "markdown",
   "execution_count": null,
   "metadata": {},
   "outputs": [],
   "source": [
    "    賦值"
   ]
  },
  {
   "cell_type": "code",
   "execution_count": 8,
   "metadata": {},
   "outputs": [
    {
     "name": "stdout",
     "output_type": "stream",
     "text": "44\n43\n86\n43.0\n1.0\n"
    }
   ],
   "source": [
    "spam = 42\n",
    "spam = spam + 1\n",
    "spam += 1\n",
    "print(spam)\n",
    "spam -= 1\n",
    "print(spam)\n",
    "spam *= 2\n",
    "print(spam)\n",
    "spam /= 2\n",
    "print(spam)\n",
    "spam %= 2\n",
    "print(spam)"
   ]
  },
  {
   "cell_type": "code",
   "execution_count": 9,
   "metadata": {},
   "outputs": [
    {
     "name": "stdout",
     "output_type": "stream",
     "text": "Hello world!\n['Zophie', 'Zophie', 'Zophie']\n"
    }
   ],
   "source": [
    "spam = 'Hello'\n",
    "spam += ' world!'\n",
    "print(spam)\n",
    "\n",
    "bacon = ['Zophie']\n",
    "bacon *= 3\n",
    "print(bacon)"
   ]
  }
 ]
}