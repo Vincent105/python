{
 "nbformat": 4,
 "nbformat_minor": 2,
 "metadata": {
  "language_info": {
   "name": "python",
   "codemirror_mode": {
    "name": "ipython",
    "version": 3
   },
   "version": "3.7.5"
  },
  "orig_nbformat": 2,
  "file_extension": ".py",
  "mimetype": "text/x-python",
  "name": "python",
  "npconvert_exporter": "python",
  "pygments_lexer": "ipython3",
  "version": 3
 },
 "cells": [
  {
   "cell_type": "markdown",
   "execution_count": null,
   "metadata": {},
   "outputs": [],
   "source": [
    "    string"
   ]
  },
  {
   "cell_type": "code",
   "execution_count": 1,
   "metadata": {},
   "outputs": [
    {
     "name": "stdout",
     "output_type": "stream",
     "text": "Z\ni\nZoph\nFalse\nTrue\n***Z***\n***o***\n***p***\n***h***\n***i***\n***e***\n"
    }
   ],
   "source": [
    "name = 'Zophie'\n",
    "print(name[0])\n",
    "print(name[-2])\n",
    "print(name[0:4])\n",
    "print('zo' in name)\n",
    "print('Zo' in name)\n",
    "\n",
    "for i in name:\n",
    "\tprint ('***' + i + '***')"
   ]
  },
  {
   "cell_type": "markdown",
   "execution_count": null,
   "metadata": {},
   "outputs": [],
   "source": [
    "    tuple"
   ]
  },
  {
   "cell_type": "code",
   "execution_count": 2,
   "metadata": {},
   "outputs": [
    {
     "name": "stdout",
     "output_type": "stream",
     "text": "hello\n(42, 0.5)\n3\n<class 'str'>\n<class 'tuple'>\n(1, 2, 3)\n[1, 2, 3]\n['t', 'u', 'p', 'l', 'e']\n"
    }
   ],
   "source": [
    "eggs = ('hello', 42, 0.5)\n",
    "\n",
    "print(eggs[0])\n",
    "print(eggs[1:3])\n",
    "print(len(eggs))\n",
    "\n",
    "print(type(('hello')))\n",
    "print(type(('hello',)))\n",
    "\n",
    "#list(),tuple()轉換\n",
    "print(tuple([1,2,3]))\n",
    "print(list((1,2,3)))\n",
    "print(list('tuple'))"
   ]
  },
  {
   "cell_type": "code",
   "execution_count": null,
   "metadata": {},
   "outputs": [],
   "source": []
  }
 ]
}