{
 "nbformat": 4,
 "nbformat_minor": 2,
 "metadata": {
  "language_info": {
   "name": "python",
   "codemirror_mode": {
    "name": "ipython",
    "version": 3
   },
   "version": "3.7.5"
  },
  "orig_nbformat": 2,
  "file_extension": ".py",
  "mimetype": "text/x-python",
  "name": "python",
  "npconvert_exporter": "python",
  "pygments_lexer": "ipython3",
  "version": 3
 },
 "cells": [
  {
   "cell_type": "code",
   "execution_count": 1,
   "metadata": {},
   "outputs": [
    {
     "name": "stdout",
     "output_type": "stream",
     "text": "42\n100\n"
    }
   ],
   "source": [
    "#變量\n",
    "spam = 42\n",
    "cheese = spam\n",
    "spam = 100\n",
    "\n",
    "print(cheese)\n",
    "print(spam)"
   ]
  },
  {
   "cell_type": "markdown",
   "execution_count": null,
   "metadata": {},
   "outputs": [],
   "source": [
    "当你将列表赋给一个变量时，实际上是将列表的“引用”\n",
    "    赋给了该变量。引用是一个值，指向某些数据。列表引用是指向一个列表的值。\n",
    "    在变量必须保存可变数据类型的值时，例如列表或字典，Python 就使用引用。\n",
    "    对于不可变的数据类型的值， 例如字符串、 整型或元组， Python变量就保存值本身"
   ]
  },
  {
   "cell_type": "code",
   "execution_count": 2,
   "metadata": {},
   "outputs": [
    {
     "name": "stdout",
     "output_type": "stream",
     "text": "[0, 'Hello!', 2, 3, 4, 5]\n[0, 'Hello!', 2, 3, 4, 5]\n"
    }
   ],
   "source": [
    "spam = [0, 1, 2, 3, 4, 5]\n",
    "cheese = spam\n",
    "cheese[1] = 'Hello!'\n",
    "\n",
    "print(cheese)\n",
    "print(spam)"
   ]
  },
  {
   "cell_type": "code",
   "execution_count": 3,
   "metadata": {},
   "outputs": [
    {
     "name": "stdout",
     "output_type": "stream",
     "text": "[1, 2, 3, 'Hello']\n"
    }
   ],
   "source": [
    "def eggs(somePara):\n",
    "\tsomePara.append('Hello')\n",
    "\n",
    "spam = [1,2,3]\n",
    "\n",
    "eggs(spam)\n",
    "print(spam)"
   ]
  },
  {
   "source": [
    "import copy\n",
    "\n",
    "spam = ['A', 'B', 'C', 'D',['E','F']]\n",
    "cheese = copy.copy(spam)\n",
    "cheese[1] = 42\n",
    "cheese[4][0] = 99\n",
    "\n",
    "print(spam)\n",
    "print(cheese)\n",
    "\n",
    "#copy 和 deepcopy 不同之處在於 copy 儘會複製當前物件而 deepcopy 則是若該物件有屬性指向其他物件，則也會一併複製\n",
    "\n",
    "spam = ['A', 'B', 'C', 'D',['E','F']]\n",
    "cheese = copy.deepcopy(spam)\n",
    "cheese[1] = 42\n",
    "cheese[4][0] = 99\n",
    "\n",
    "print(spam)\n",
    "print(cheese)"
   ],
   "cell_type": "code",
   "outputs": [
    {
     "output_type": "stream",
     "name": "stdout",
     "text": "['A', 'B', 'C', 'D', [99, 'F']]\n['A', 42, 'C', 'D', [99, 'F']]\n['A', 'B', 'C', 'D', ['E', 'F']]\n['A', 42, 'C', 'D', [99, 'F']]\n"
    }
   ],
   "metadata": {},
   "execution_count": 9
  },
  {
   "cell_type": "code",
   "execution_count": null,
   "metadata": {},
   "outputs": [],
   "source": []
  }
 ]
}