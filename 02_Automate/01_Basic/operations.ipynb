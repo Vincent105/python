{
 "nbformat": 4,
 "nbformat_minor": 2,
 "metadata": {
  "language_info": {
   "name": "python",
   "codemirror_mode": {
    "name": "ipython",
    "version": 3
   },
   "version": "3.7.5"
  },
  "orig_nbformat": 2,
  "file_extension": ".py",
  "mimetype": "text/x-python",
  "name": "python",
  "npconvert_exporter": "python",
  "pygments_lexer": "ipython3",
  "version": 3
 },
 "cells": [
  {
   "cell_type": "code",
   "execution_count": 1,
   "metadata": {},
   "outputs": [
    {
     "name": "stdout",
     "output_type": "stream",
     "text": "5\n1\n6\n1.5\n1\n1\n-3\n3\n3\n3\n3.0\n9\n"
    }
   ],
   "source": [
    "x = 3\n",
    "y = 2\n",
    "\n",
    "print(x + y)\t#sum of x and y\n",
    "print(x - y)\t#difference of x and y\n",
    "print(x * y)\t#product of x and y\n",
    "print(x / y)\t#quotient of x and y\n",
    "print(x // y)\t#floored quotient of x and y \n",
    "print(x % y)\t#remainder of x / y\n",
    "print(-x)\t\t#x negated\n",
    "print(+x)\t\t#x unchanged\n",
    "print(abs(x))\t#absolute value \n",
    "print(int(x))\t#x converted to integer\n",
    "print(float(x))\t#x converted to floating point\n",
    "print(x**y)\t\t#x to the power y (5"
   ]
  },
  {
   "cell_type": "code",
   "execution_count": 1,
   "metadata": {},
   "outputs": [
    {
     "name": "stdout",
     "output_type": "stream",
     "text": "AliceBob\nspam spam spam spam \n"
    }
   ],
   "source": [
    "# operation for str\n",
    "print('Alice' + 'Bob')\n",
    "print('spam '*4)"
   ]
  }
 ]
}