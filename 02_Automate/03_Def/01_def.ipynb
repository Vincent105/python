{
 "nbformat": 4,
 "nbformat_minor": 2,
 "metadata": {
  "language_info": {
   "name": "python",
   "codemirror_mode": {
    "name": "ipython",
    "version": 3
   },
   "version": "3.7.5"
  },
  "orig_nbformat": 2,
  "file_extension": ".py",
  "mimetype": "text/x-python",
  "name": "python",
  "npconvert_exporter": "python",
  "pygments_lexer": "ipython3",
  "version": 3
 },
 "cells": [
  {
   "cell_type": "code",
   "execution_count": 9,
   "metadata": {},
   "outputs": [
    {
     "name": "stdout",
     "output_type": "stream",
     "text": "Howdy!\nHowdy!!\nHowdy!\nHowdy!!\n"
    }
   ],
   "source": [
    "# 無變量\n",
    "def hello():\n",
    "\tprint('Howdy!')\n",
    "\tprint('Howdy!!')\n",
    "\n",
    "hello()\n",
    "hello()"
   ]
  },
  {
   "cell_type": "code",
   "execution_count": 11,
   "metadata": {},
   "outputs": [
    {
     "name": "stdout",
     "output_type": "stream",
     "text": "Howdy!\nHowdy!!\nHello there Vincent\nHowdy!\nHowdy!!\nHello there Esther\n"
    }
   ],
   "source": [
    "# 有變量\n",
    "def hello(name):\n",
    "\tprint('Howdy!')\n",
    "\tprint('Howdy!!')\n",
    "\tprint('Hello there ' + name)\n",
    "\n",
    "hello('Vincent')        # 傳遞參數\n",
    "hello('Esther')"
   ]
  },
  {
   "cell_type": "markdown",
   "execution_count": null,
   "metadata": {},
   "outputs": [],
   "source": [
    "    return語句"
   ]
  },
  {
   "cell_type": "code",
   "execution_count": 21,
   "metadata": {},
   "outputs": [
    {
     "name": "stdout",
     "output_type": "stream",
     "text": "It is decidedly so\n"
    }
   ],
   "source": [
    "import random\n",
    "\n",
    "def getAnswer(answerNumber):\n",
    "\tif answerNumber == 1:\n",
    "\t\treturn 'It is certain'\n",
    "\telif answerNumber == 2:\n",
    "\t\treturn 'It is decidedly so'\t\n",
    "\telif answerNumber == 3:\n",
    "\t\treturn 'Yes'\n",
    "\telif answerNumber == 4:\n",
    "\t\treturn 'No'\t\t\n",
    "\telse:\n",
    "\t\treturn 'No idea'\n",
    "\n",
    "r = random.randint(1,9)\n",
    "fortune = getAnswer(r)\n",
    "print(fortune)\n",
    "\n",
    "# print(getAnswer(random.randint(1,9)))  上述三行可直接改寫"
   ]
  },
  {
   "cell_type": "markdown",
   "execution_count": null,
   "metadata": {},
   "outputs": [],
   "source": [
    "    None 值"
   ]
  },
  {
   "cell_type": "code",
   "execution_count": 30,
   "metadata": {},
   "outputs": [
    {
     "name": "stdout",
     "output_type": "stream",
     "text": "hello\nTrue\n"
    }
   ],
   "source": [
    "spam = print('hello')       # print()返回 None\n",
    "print(None == spam)"
   ]
  },
  {
   "cell_type": "markdown",
   "execution_count": null,
   "metadata": {},
   "outputs": [],
   "source": [
    "    print(*objects, sep=' ', end='\\n')"
   ]
  },
  {
   "cell_type": "code",
   "execution_count": 39,
   "metadata": {},
   "outputs": [
    {
     "name": "stdout",
     "output_type": "stream",
     "text": "hellovicnent\n\ndog cat mouse\ndog,cat,mouse\ndog\\cat\\mouse\n"
    }
   ],
   "source": [
    "print('hello',end = '')\n",
    "print('vicnent')\n",
    "print(end ='\\n')\n",
    "print('dog', 'cat', 'mouse')\n",
    "print('dog', 'cat', 'mouse', sep=',')\n",
    "print('dog', 'cat', 'mouse', sep='\\\\')"
   ]
  },
  {
   "cell_type": "code",
   "execution_count": null,
   "metadata": {},
   "outputs": [],
   "source": []
  }
 ]
}