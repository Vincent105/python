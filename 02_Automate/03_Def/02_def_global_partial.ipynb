{
 "nbformat": 4,
 "nbformat_minor": 2,
 "metadata": {
  "language_info": {
   "name": "python",
   "codemirror_mode": {
    "name": "ipython",
    "version": 3
   },
   "version": "3.7.5"
  },
  "orig_nbformat": 2,
  "file_extension": ".py",
  "mimetype": "text/x-python",
  "name": "python",
  "npconvert_exporter": "python",
  "pygments_lexer": "ipython3",
  "version": 3
 },
 "cells": [
  {
   "cell_type": "markdown",
   "execution_count": null,
   "metadata": {},
   "outputs": [],
   "source": [
    "    局部變數不能在全局內使用"
   ]
  },
  {
   "cell_type": "code",
   "execution_count": 1,
   "metadata": {},
   "outputs": [
    {
     "ename": "NameError",
     "evalue": "name 'eggs' is not defined",
     "output_type": "error",
     "traceback": [
      "\u001b[1;31m---------------------------------------------------------------------------\u001b[0m",
      "\u001b[1;31mNameError\u001b[0m                                 Traceback (most recent call last)",
      "\u001b[1;32m<ipython-input-1-548d9eb66581>\u001b[0m in \u001b[0;36m<module>\u001b[1;34m\u001b[0m\n\u001b[0;32m      3\u001b[0m \u001b[1;33m\u001b[0m\u001b[0m\n\u001b[0;32m      4\u001b[0m \u001b[0mspam\u001b[0m\u001b[1;33m(\u001b[0m\u001b[1;33m)\u001b[0m\u001b[1;33m\u001b[0m\u001b[1;33m\u001b[0m\u001b[0m\n\u001b[1;32m----> 5\u001b[1;33m \u001b[0mprint\u001b[0m\u001b[1;33m(\u001b[0m\u001b[0meggs\u001b[0m\u001b[1;33m)\u001b[0m         \u001b[1;31m# 全局內使用局部變數錯誤\u001b[0m\u001b[1;33m\u001b[0m\u001b[1;33m\u001b[0m\u001b[0m\n\u001b[0m",
      "\u001b[1;31mNameError\u001b[0m: name 'eggs' is not defined"
     ]
    }
   ],
   "source": [
    "def spam():\n",
    "    eggs = 11111    # 局部變數\n",
    "\n",
    "spam()\n",
    "print(eggs)         # 全局內使用局部變數錯誤"
   ]
  },
  {
   "cell_type": "markdown",
   "execution_count": null,
   "metadata": {},
   "outputs": [],
   "source": [
    "    局部變數不能使用在其他局部區域內使用"
   ]
  },
  {
   "cell_type": "code",
   "execution_count": 3,
   "metadata": {},
   "outputs": [
    {
     "name": "stdout",
     "output_type": "stream",
     "text": "99\n"
    }
   ],
   "source": [
    "def spam():\n",
    "    eggs = 99\n",
    "    bacon()         # bacon()返回时， 局部作用域中的變數(eggs)销毁。 \n",
    "    print(eggs)\n",
    "def bacon():\n",
    "    ham = 101\n",
    "    eggs = 0\n",
    "spam()        "
   ]
  },
  {
   "cell_type": "markdown",
   "execution_count": null,
   "metadata": {},
   "outputs": [],
   "source": [
    "    全局變數可以在局部區域內使用"
   ]
  },
  {
   "cell_type": "code",
   "execution_count": 3,
   "metadata": {},
   "outputs": [
    {
     "name": "stdout",
     "output_type": "stream",
     "text": "421\n422\n"
    }
   ],
   "source": [
    "def spam():\n",
    "    print(str(eggs)+'1')\n",
    "eggs = 42\n",
    "spam()\n",
    "print(str(eggs)+'2')   "
   ]
  },
  {
   "cell_type": "markdown",
   "execution_count": null,
   "metadata": {},
   "outputs": [],
   "source": [
    "    global 语句"
   ]
  },
  {
   "cell_type": "code",
   "execution_count": 4,
   "metadata": {},
   "outputs": [
    {
     "name": "stdout",
     "output_type": "stream",
     "text": "spam\n"
    }
   ],
   "source": [
    "def spam():\n",
    "    global eggs\n",
    "    eggs = 'spam'\n",
    "eggs = 'global'\n",
    "spam()\n",
    "print(eggs)"
   ]
  }
 ]
}