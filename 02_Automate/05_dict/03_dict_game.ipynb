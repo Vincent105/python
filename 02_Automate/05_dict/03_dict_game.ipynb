{
 "nbformat": 4,
 "nbformat_minor": 2,
 "metadata": {
  "language_info": {
   "name": "python",
   "codemirror_mode": {
    "name": "ipython",
    "version": 3
   },
   "version": "3.7.5-final"
  },
  "orig_nbformat": 2,
  "file_extension": ".py",
  "mimetype": "text/x-python",
  "name": "python",
  "npconvert_exporter": "python",
  "pygments_lexer": "ipython3",
  "version": 3,
  "kernelspec": {
   "name": "python37564bitbaseconda3210c909c5fa4ba18cca988f0b8f9fd8",
   "display_name": "Python 3.7.5 64-bit ('base': conda)"
  }
 },
 "cells": [
  {
   "cell_type": "code",
   "execution_count": 3,
   "metadata": {},
   "outputs": [
    {
     "name": "stdout",
     "output_type": "stream",
     "text": "| | \n-+-+-\n | | \n-+-+-\n | | \n"
    }
   ],
   "source": [
    "theBoard = {'top-L': ' ', 'top-M': ' ', 'top-R': ' ',\n",
    "\t\t\t'mid-L': ' ', 'mid-M': ' ', 'mid-R': ' ',\n",
    "\t\t\t'low-L': ' ', 'low-M': ' ', 'low-R': ' '}\n",
    "\n",
    "def printBoard(board):\n",
    "\tprint(board['top-L'] + '|' + board['top-M'] + '|' + board['top-R'])\n",
    "\tprint('-+-+-')\n",
    "\tprint(board['mid-L'] + '|' + board['mid-M'] + '|' + board['mid-R'])\n",
    "\tprint('-+-+-')\n",
    "\tprint(board['low-L'] + '|' + board['low-M'] + '|' + board['low-R'])\n",
    " \n",
    "printBoard(theBoard)"
   ]
  },
  {
   "source": [
    "theBoard = {'top-L': ' ', 'top-M': ' ', 'top-R': ' ',\n",
    "\t\t\t'mid-L': ' ', 'mid-M': ' ', 'mid-R': ' ',\n",
    "\t\t\t'low-L': ' ', 'low-M': ' ', 'low-R': ' '}\n",
    "\n",
    "def printBoard(board):\n",
    "\tprint(board['top-L'] + '|' + board['top-M'] + '|' + board['top-R'])\n",
    "\tprint('-+-+-')\n",
    "\tprint(board['mid-L'] + '|' + board['mid-M'] + '|' + board['mid-R'])\n",
    "\tprint('-+-+-')\n",
    "\tprint(board['low-L'] + '|' + board['low-M'] + '|' + board['low-R'])\n",
    "\n",
    "turn = 'X'\n",
    "\n",
    "for i in range(9):\n",
    "\tprintBoard(theBoard)\n",
    "\tprint('Turn for ' + turn + '. Move on which space?')\n",
    "\tmove = input()\n",
    "\ttheBoard[move] = turn \n",
    "\tif turn == 'X':\n",
    "\t\tturn = 'O'\n",
    "\telse:\n",
    "\t\tturn = 'X'\n",
    "\n",
    "printBoard(theBoard)"
   ],
   "cell_type": "code",
   "outputs": [
    {
     "output_type": "stream",
     "name": "stdout",
     "text": "| | \n-+-+-\n | | \n-+-+-\n | | \nTurn for X. Move on which space?\n"
    }
   ],
   "metadata": {},
   "execution_count": 4
  },
  {
   "cell_type": "code",
   "execution_count": null,
   "metadata": {},
   "outputs": [],
   "source": []
  }
 ]
}