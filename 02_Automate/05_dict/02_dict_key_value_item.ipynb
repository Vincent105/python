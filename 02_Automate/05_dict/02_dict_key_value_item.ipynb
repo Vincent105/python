{
 "nbformat": 4,
 "nbformat_minor": 2,
 "metadata": {
  "language_info": {
   "name": "python",
   "codemirror_mode": {
    "name": "ipython",
    "version": 3
   },
   "version": "3.7.5-final"
  },
  "orig_nbformat": 2,
  "file_extension": ".py",
  "mimetype": "text/x-python",
  "name": "python",
  "npconvert_exporter": "python",
  "pygments_lexer": "ipython3",
  "version": 3,
  "kernelspec": {
   "name": "python37564bitbaseconda3210c909c5fa4ba18cca988f0b8f9fd8",
   "display_name": "Python 3.7.5 64-bit ('base': conda)"
  }
 },
 "cells": [
  {
   "cell_type": "code",
   "execution_count": 9,
   "metadata": {},
   "outputs": [
    {
     "name": "stdout",
     "output_type": "stream",
     "text": "red\n42\n=========================\ncolor\nage\n=========================\n('color', 'red')\n('age', '42')\n=========================\nkey: color - value: red\nkey: age - value: 42\n"
    }
   ],
   "source": [
    "spam = {'color':'red', 'age':'42'}\n",
    "for v in spam.values():\n",
    "    print(v)\n",
    "print('=========================')    \n",
    "for v in spam.keys():\n",
    "    print(v)\n",
    "print('=========================')        \n",
    "for v in spam.items():\n",
    "    print(v)\n",
    "print('=========================')        \n",
    "for key, value in spam.items():\n",
    "    print('key:',key,'-','value:',value)    "
   ]
  },
  {
   "cell_type": "markdown",
   "execution_count": null,
   "metadata": {},
   "outputs": [],
   "source": [
    "### 轉換為list"
   ]
  },
  {
   "cell_type": "code",
   "execution_count": 11,
   "metadata": {},
   "outputs": [
    {
     "name": "stdout",
     "output_type": "stream",
     "text": "dict_keys(['color', 'age'])\n['color', 'age']\n"
    }
   ],
   "source": [
    "print(spam.keys())\n",
    "print(list(spam.keys()))"
   ]
  },
  {
   "cell_type": "markdown",
   "execution_count": null,
   "metadata": {},
   "outputs": [],
   "source": [
    "### 檢查鍵值"
   ]
  },
  {
   "cell_type": "code",
   "execution_count": 17,
   "metadata": {},
   "outputs": [
    {
     "name": "stdout",
     "output_type": "stream",
     "text": "True\nTrue\nTrue\nTrue\n"
    }
   ],
   "source": [
    "spam = {'name': 'vincent', 'age': 7}\n",
    "print('name' in spam.keys())\n",
    "print('color' not in spam.keys())\n",
    "print('vincent' in spam.values())\n",
    "print('name' in spam)"
   ]
  },
  {
   "cell_type": "markdown",
   "execution_count": null,
   "metadata": {},
   "outputs": [],
   "source": [
    "### get()"
   ]
  },
  {
   "cell_type": "code",
   "execution_count": 18,
   "metadata": {},
   "outputs": [
    {
     "name": "stdout",
     "output_type": "stream",
     "text": "I am bringing 2 cups.\nI am bringing 0 cups.\n"
    }
   ],
   "source": [
    "picnicItems = {'apples': 5, 'cups': 2}\n",
    "print('I am bringing ' + str(picnicItems.get('cups',0)) + ' cups.')\n",
    "print('I am bringing ' + str(picnicItems.get('banana',0)) + ' cups.')\t#get()方法返回的默认值是 0。"
   ]
  },
  {
   "cell_type": "markdown",
   "execution_count": null,
   "metadata": {},
   "outputs": [],
   "source": [
    "### setdefault()"
   ]
  },
  {
   "cell_type": "code",
   "execution_count": 20,
   "metadata": {},
   "outputs": [
    {
     "name": "stdout",
     "output_type": "stream",
     "text": "{'name': 'vincent', 'age': '20', 'color': 'black'}\n"
    }
   ],
   "source": [
    "spam = {'name': 'vincent','age': '20'}\n",
    "if 'color' not in spam:\n",
    "\tspam['color'] = 'black'\n",
    "print(spam)    "
   ]
  },
  {
   "cell_type": "code",
   "execution_count": 26,
   "metadata": {},
   "outputs": [
    {
     "name": "stdout",
     "output_type": "stream",
     "text": "white\nblack\n{'name': 'vincent', 'age': '20', 'color': 'black', 'color_2': 'white'}\nvincent\n{'name': 'vincent', 'age': '20', 'color': 'black', 'color_2': 'white'}\n"
    }
   ],
   "source": [
    "spam.setdefault('color_2','white')\t\t\t\t\t#除非key值不存在，才會給予預設值；若存在這不進行覆蓋。\n",
    "print(spam.setdefault('color_2','white'))\n",
    "print(spam.setdefault('color','white'))\n",
    "print(spam)\n",
    "print(spam.setdefault('name','esther'))\n",
    "print(spam)"
   ]
  },
  {
   "cell_type": "code",
   "execution_count": 27,
   "metadata": {},
   "outputs": [
    {
     "name": "stdout",
     "output_type": "stream",
     "text": "{' ': 13,\n ',': 1,\n '.': 1,\n 'A': 1,\n 'I': 1,\n 'a': 4,\n 'b': 1,\n 'c': 3,\n 'd': 3,\n 'e': 5,\n 'g': 2,\n 'h': 3,\n 'i': 6,\n 'k': 2,\n 'l': 3,\n 'n': 4,\n 'o': 2,\n 'p': 1,\n 'r': 5,\n 's': 3,\n 't': 6,\n 'w': 2,\n 'y': 1}\n"
    }
   ],
   "source": [
    "#計算字串出現次數，並導入pprint module\n",
    "import pprint\n",
    "\n",
    "message = 'It was a bright cold day in April, and the clocks were striking thirteen.'\n",
    "count = {}\n",
    "\n",
    "for character in message:\n",
    "\tcount.setdefault(character,0)\n",
    "\tcount[character] += 1\n",
    "\n",
    "pprint.pprint(count)\t"
   ]
  },
  {
   "cell_type": "code",
   "execution_count": null,
   "metadata": {},
   "outputs": [],
   "source": []
  }
 ]
}