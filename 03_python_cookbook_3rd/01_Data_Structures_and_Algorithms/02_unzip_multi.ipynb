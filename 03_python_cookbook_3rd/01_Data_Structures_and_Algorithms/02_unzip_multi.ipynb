{
 "nbformat": 4,
 "nbformat_minor": 2,
 "metadata": {
  "language_info": {
   "name": "python",
   "codemirror_mode": {
    "name": "ipython",
    "version": 3
   },
   "version": "3.7.5-final"
  },
  "orig_nbformat": 2,
  "file_extension": ".py",
  "mimetype": "text/x-python",
  "name": "python",
  "npconvert_exporter": "python",
  "pygments_lexer": "ipython3",
  "version": 3,
  "kernelspec": {
   "name": "python37564bitbaseconda3210c909c5fa4ba18cca988f0b8f9fd8",
   "display_name": "Python 3.7.5 64-bit ('base': conda)"
  }
 },
 "cells": [
  {
   "cell_type": "code",
   "execution_count": 1,
   "metadata": {},
   "outputs": [
    {
     "name": "stdout",
     "output_type": "stream",
     "text": "Dave\n['773-555-1212', '847-555-1212']\n"
    }
   ],
   "source": [
    "#解壓可迭代對象賦值給多個變量\n",
    "#Case 1 \n",
    "record = ('Dave', 'dave@example.com', '773-555-1212', '847-555-1212')\n",
    "name, mail, *phone_numbers = record\n",
    "print(name)\n",
    "print(phone_numbers)                #解壓出的*變量永遠都是列表類型，不管解壓的電話號碼數量是多少（包括 0 個）。"
   ]
  },
  {
   "cell_type": "code",
   "execution_count": 3,
   "metadata": {},
   "outputs": [
    {
     "name": "stdout",
     "output_type": "stream",
     "text": "[10, 8, 7, 1, 9, 5, 10]\n3\n"
    }
   ],
   "source": [
    "*trailing, current = [10, 8, 7, 1, 9, 5, 10, 3]\n",
    "print(trailing)\n",
    "print(current)"
   ]
  },
  {
   "cell_type": "markdown",
   "execution_count": null,
   "metadata": {},
   "outputs": [],
   "source": [
    "\n",
    "#迭代解壓語法是專門為解壓不確定個數或任意個數元素的可迭代對象而設計的。 通常，這些可迭代對象的元素結構有確定的規則\n",
    "#星號表達式讓開發人員可以很容易的利用這些規則來解壓出元素來。 而不是通過一些比較複雜的手段去獲取這些關聯的元素值。\n",
    "\n",
    "#星號表達式在迭代元素為可變長元組的序列時是很有用的。 下面是一個帶有標籤的元組序列："
   ]
  },
  {
   "cell_type": "code",
   "execution_count": 4,
   "metadata": {},
   "outputs": [
    {
     "name": "stdout",
     "output_type": "stream",
     "text": "foo 1 2\nbar hello\nfoo 3 4\n"
    }
   ],
   "source": [
    "records = [\n",
    "    ('foo', 1, 2),\n",
    "    ('bar', 'hello'),\n",
    "    ('foo', 3, 4),\n",
    "]\n",
    "def do_foo(x, y):\n",
    "    print('foo', x, y)\n",
    "\n",
    "def do_bar(s):\n",
    "    print('bar', s)\n",
    "\n",
    "for tag, *args in records:\n",
    "    if tag == 'foo':\n",
    "        do_foo(*args)\n",
    "    elif tag == 'bar':\n",
    "        do_bar(*args)"
   ]
  },
  {
   "cell_type": "code",
   "execution_count": 5,
   "metadata": {},
   "outputs": [
    {
     "name": "stdout",
     "output_type": "stream",
     "text": "nobody\n['*', '-2', '-2', 'Unprivileged User']\n/var/empty\n/usr/bin/false\n"
    }
   ],
   "source": [
    "#字符串的分割\n",
    "line = 'nobody:*:-2:-2:Unprivileged User:/var/empty:/usr/bin/false'\n",
    "uname, *fields, homedir, sh = line.split(':')\n",
    "print(uname)\n",
    "print(fields)\n",
    "print(homedir)\n",
    "print(sh)"
   ]
  },
  {
   "cell_type": "code",
   "execution_count": 6,
   "metadata": {},
   "outputs": [
    {
     "name": "stdout",
     "output_type": "stream",
     "text": "ACME\n2012\n"
    }
   ],
   "source": [
    "#解壓元素後丟棄，可以廢棄名稱，比如 _。\n",
    "record = ('ACME', 50, 123.45, (12, 18, 2012))\n",
    "name, *_, (*_, year) = record\n",
    "print(name)\n",
    "print(year)"
   ]
  },
  {
   "cell_type": "code",
   "execution_count": 7,
   "metadata": {},
   "outputs": [
    {
     "name": "stdout",
     "output_type": "stream",
     "text": "1\n[10, 7, 4, 5, 9]\n"
    }
   ],
   "source": [
    "items = [1, 10, 7, 4, 5, 9]\n",
    "head, *item = items\n",
    "print(head)\n",
    "print(item)\n"
   ]
  },
  {
   "cell_type": "code",
   "execution_count": null,
   "metadata": {},
   "outputs": [],
   "source": []
  }
 ]
}