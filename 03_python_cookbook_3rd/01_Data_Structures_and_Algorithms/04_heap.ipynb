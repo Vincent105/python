{
 "nbformat": 4,
 "nbformat_minor": 2,
 "metadata": {
  "language_info": {
   "name": "python",
   "codemirror_mode": {
    "name": "ipython",
    "version": 3
   },
   "version": "3.7.5-final"
  },
  "orig_nbformat": 2,
  "file_extension": ".py",
  "mimetype": "text/x-python",
  "name": "python",
  "npconvert_exporter": "python",
  "pygments_lexer": "ipython3",
  "version": 3,
  "kernelspec": {
   "name": "python37564bitbaseconda3210c909c5fa4ba18cca988f0b8f9fd8",
   "display_name": "Python 3.7.5 64-bit ('base': conda)"
  }
 },
 "cells": [
  {
   "cell_type": "markdown",
   "execution_count": null,
   "metadata": {},
   "outputs": [],
   "source": [
    "#查找最大或最小的 N 個元素  \n",
    "heapq 兩個函數：nlargest() 和 nsmallest() "
   ]
  },
  {
   "cell_type": "code",
   "execution_count": 15,
   "metadata": {},
   "outputs": [
    {
     "name": "stdout",
     "output_type": "stream",
     "text": "nlargest(): [42, 37, 23, 23, 18]\nnsmallest(): [-4, 1, 2, 2, 7]\n"
    }
   ],
   "source": [
    "import heapq\n",
    "nums = [1, 8, 2, 23, 7, -4, 18, 23, 42, 37, 2]\n",
    "print('nlargest():', heapq.nlargest(5, nums))\n",
    "print('nsmallest():', heapq.nsmallest(5, nums))"
   ]
  },
  {
   "cell_type": "code",
   "execution_count": 20,
   "metadata": {},
   "outputs": [
    {
     "name": "stdout",
     "output_type": "stream",
     "text": "[{'name': 'YHOO', 'shares': 45, 'price': 16.35}, {'name': 'FB', 'shares': 200, 'price': 21.09}, {'name': 'HPQ', 'shares': 35, 'price': 31.75}]\n[{'name': 'AAPL', 'shares': 50, 'price': 543.22}, {'name': 'ACME', 'shares': 75, 'price': 115.65}, {'name': 'IBM', 'shares': 100, 'price': 91.1}]\n[{'name': 'YHOO', 'shares': 45, 'price': 16.35}, {'name': 'FB', 'shares': 200, 'price': 21.09}, {'name': 'HPQ', 'shares': 35, 'price': 31.75}, {'name': 'IBM', 'shares': 100, 'price': 91.1}, {'name': 'ACME', 'shares': 75, 'price': 115.65}, {'name': 'AAPL', 'shares': 50, 'price': 543.22}]\n"
    }
   ],
   "source": [
    "# 能接受一個關鍵字參數\n",
    "portfolio = [\n",
    "    {'name': 'IBM', 'shares': 100, 'price': 91.1},\n",
    "    {'name': 'AAPL', 'shares': 50, 'price': 543.22},\n",
    "    {'name': 'FB', 'shares': 200, 'price': 21.09},\n",
    "    {'name': 'HPQ', 'shares': 35, 'price': 31.75},\n",
    "    {'name': 'YHOO', 'shares': 45, 'price': 16.35},\n",
    "    {'name': 'ACME', 'shares': 75, 'price': 115.65}\n",
    "]\n",
    "\n",
    "cheap = heapq.nsmallest(3,portfolio,key=lambda s: s['price'])\n",
    "print(cheap)\n",
    "expensive = heapq.nlargest(3,portfolio,key=lambda s: s['price'])\n",
    "print(expensive)\n",
    "\n",
    "print(sorted(portfolio,key=lambda s: s['price']))"
   ]
  },
  {
   "cell_type": "code",
   "execution_count": 19,
   "metadata": {},
   "outputs": [
    {
     "name": "stdout",
     "output_type": "stream",
     "text": "[-4, 2, 1, 23, 7, 2, 18, 23, 42, 37, 8]\n-4\n-4\n1\n2\n2\n[7, 23, 8, 23, 42, 37, 18]\n"
    }
   ],
   "source": [
    "heap = list(nums)\n",
    "heapq.heapify(heap)\n",
    "print(heap)\n",
    "print(heap[0])\n",
    "print(heapq.heappop(heap))\n",
    "print(heapq.heappop(heap))\n",
    "print(heapq.heappop(heap))\n",
    "print(heapq.heappop(heap))\n",
    "print(heap)\n",
    "\n"
   ]
  },
  {
   "cell_type": "markdown",
   "execution_count": null,
   "metadata": {},
   "outputs": [],
   "source": [
    "堆數據結構最重要的特徵是 heap [ 0 ] 永遠是最小的元素。並且剩餘的元素可以很容易的通過調用 heapq.heappop() 方法得到， 該方法會先將第一個元素\n",
    "彈出來，然後用下一個最小的元素來取代被彈出元素（這種操作時間複雜度僅僅是 O(log N)，N 是堆大小）。"
   ]
  }
 ]
}