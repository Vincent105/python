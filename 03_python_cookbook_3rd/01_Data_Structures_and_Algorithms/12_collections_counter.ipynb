{
 "nbformat": 4,
 "nbformat_minor": 2,
 "metadata": {
  "language_info": {
   "name": "python",
   "codemirror_mode": {
    "name": "ipython",
    "version": 3
   },
   "version": "3.7.5-final"
  },
  "orig_nbformat": 2,
  "file_extension": ".py",
  "mimetype": "text/x-python",
  "name": "python",
  "npconvert_exporter": "python",
  "pygments_lexer": "ipython3",
  "version": 3,
  "kernelspec": {
   "name": "python37564bitvirtualenvfe5bae16d3f743aca73bce467ebd2e37",
   "display_name": "Python 3.7.5 64-bit (virtualenv)"
  }
 },
 "cells": [
  {
   "cell_type": "markdown",
   "execution_count": null,
   "metadata": {},
   "outputs": [],
   "source": [
    "序列中出現次數最多的元素"
   ]
  },
  {
   "cell_type": "code",
   "execution_count": 4,
   "metadata": {},
   "outputs": [
    {
     "name": "stdout",
     "output_type": "stream",
     "text": "Counter({'eyes': 8, 'the': 5, 'look': 4, 'into': 3, 'my': 3, 'around': 2, 'not': 1, \"don't\": 1, \"you're\": 1, 'under': 1})\n[('eyes', 8), ('the', 5), ('look', 4)]\n一個 Counter 對象就是一個字典，將元素映射到它出現的次數上\n4\n"
    }
   ],
   "source": [
    "from collections import Counter\n",
    "words = [\n",
    "    'look', 'into', 'my', 'eyes', 'look', 'into', 'my', 'eyes',\n",
    "    'the', 'eyes', 'the', 'eyes', 'the', 'eyes', 'not', 'around', 'the',\n",
    "    'eyes', \"don't\", 'look', 'around', 'the', 'eyes', 'look', 'into',\n",
    "    'my', 'eyes', \"you're\", 'under'\n",
    "]\n",
    "word_counts = Counter(words)\n",
    "# 出現頻率最高的3個單詞\n",
    "top_three = word_counts.most_common(3)\n",
    "print(word_counts)\n",
    "print(top_three)\n",
    "print(\"一個 Counter 對象就是一個字典，將元素映射到它出現的次數上\")\n",
    "print(word_counts['look'])"
   ]
  },
  {
   "cell_type": "code",
   "execution_count": 5,
   "metadata": {},
   "outputs": [
    {
     "name": "stdout",
     "output_type": "stream",
     "text": "手動增加計數，可以簡單的用加法\n{'why': 1, 'are': 1, 'you': 1, 'not': 1, 'looking': 1, 'in': 2, 'my': 1, 'eyes': 2}\n"
    }
   ],
   "source": [
    "print(\"手動增加計數，可以簡單的用加法\")\n",
    "morewords = ['why','are','you','not','looking','in','my','eyes','eyes','in']\n",
    "word_count_1 = {}\n",
    "for word in morewords:\n",
    "    if word not in word_count_1:\n",
    "        word_count_1[word] = 0\n",
    "    word_count_1[word] += 1\n",
    "print(word_count_1)"
   ]
  },
  {
   "cell_type": "code",
   "execution_count": 6,
   "metadata": {},
   "outputs": [
    {
     "name": "stdout",
     "output_type": "stream",
     "text": "你可以使用 update() 方法：\nCounter({'eyes': 10, 'the': 5, 'look': 4, 'my': 4, 'into': 3, 'not': 2, 'around': 2, 'in': 2, \"don't\": 1, \"you're\": 1, 'under': 1, 'why': 1, 'are': 1, 'you': 1, 'looking': 1})\n"
    }
   ],
   "source": [
    "print(\"你可以使用 update() 方法更新：\")\n",
    "word_counts.update(morewords)\n",
    "print(word_counts)"
   ]
  },
  {
   "cell_type": "code",
   "execution_count": 7,
   "metadata": {},
   "outputs": [
    {
     "name": "stdout",
     "output_type": "stream",
     "text": "Counter 實例一個鮮為人知的特性是它們可以很容易的跟數學運算操作相結合\nCounter({'eyes': 8, 'the': 5, 'look': 4, 'into': 3, 'my': 3, 'around': 2, 'not': 1, \"don't\": 1, \"you're\": 1, 'under': 1})\nCounter({'in': 2, 'eyes': 2, 'why': 1, 'are': 1, 'you': 1, 'not': 1, 'looking': 1, 'my': 1})\nCounter({'eyes': 10, 'the': 5, 'look': 4, 'my': 4, 'into': 3, 'not': 2, 'around': 2, 'in': 2, \"don't\": 1, \"you're\": 1, 'under': 1, 'why': 1, 'are': 1, 'you': 1, 'looking': 1})\nCounter({'eyes': 6, 'the': 5, 'look': 4, 'into': 3, 'my': 2, 'around': 2, \"don't\": 1, \"you're\": 1, 'under': 1})\n"
    }
   ],
   "source": [
    "print(\"Counter 實例一個鮮為人知的特性是它們可以很容易的跟數學運算操作相結合\")\n",
    "a = Counter(words)\n",
    "b = Counter(morewords)\n",
    "print(a)\n",
    "print(b)\n",
    "# Combine counts\n",
    "c = a + b\n",
    "print(c)\n",
    "\n",
    "# Subtract counts\n",
    "c = a - b\n",
    "print(c)"
   ]
  },
  {
   "cell_type": "code",
   "execution_count": null,
   "metadata": {},
   "outputs": [],
   "source": []
  }
 ]
}