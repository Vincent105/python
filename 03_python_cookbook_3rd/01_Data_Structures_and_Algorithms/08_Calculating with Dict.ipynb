{
 "nbformat": 4,
 "nbformat_minor": 2,
 "metadata": {
  "language_info": {
   "name": "python",
   "codemirror_mode": {
    "name": "ipython",
    "version": 3
   },
   "version": "3.7.5-final"
  },
  "orig_nbformat": 2,
  "file_extension": ".py",
  "mimetype": "text/x-python",
  "name": "python",
  "npconvert_exporter": "python",
  "pygments_lexer": "ipython3",
  "version": 3,
  "kernelspec": {
   "name": "python37564bitvirtualenvfe5bae16d3f743aca73bce467ebd2e37",
   "display_name": "Python 3.7.5 64-bit (virtualenv)"
  }
 },
 "cells": [
  {
   "cell_type": "code",
   "execution_count": 11,
   "metadata": {},
   "outputs": [
    {
     "name": "stdout",
     "output_type": "stream",
     "text": "(10.75, 'FB')\n(612.78, 'AAPL')\n[(10.75, 'FB'), (37.2, 'HPQ'), (45.23, 'ACME'), (205.55, 'IBM'), (612.78, 'AAPL')]\n"
    }
   ],
   "source": [
    "prices = {\n",
    "    'ACME': 45.23,\n",
    "    'AAPL': 612.78,\n",
    "    'IBM': 205.55,\n",
    "    'HPQ': 37.20,\n",
    "    'FB': 10.75\n",
    "}\n",
    "min_price = min(zip(prices.values(), prices.keys()))  # 使用 zip() 函數將鍵和值反轉\n",
    "max_price = max(zip(prices.values(), prices.keys()))\n",
    "sorted_price = sorted(zip(prices.values(), prices.keys()))\n",
    "\n",
    "print(min_price)\n",
    "print(max_price)\n",
    "print(sorted_price)"
   ]
  },
  {
   "cell_type": "code",
   "execution_count": 10,
   "metadata": {},
   "outputs": [
    {
     "name": "stdout",
     "output_type": "stream",
     "text": "AAPL\nIBM\n10.75\n612.78\n"
    }
   ],
   "source": [
    "print(min(prices))\n",
    "print(max(prices))\n",
    "# 透過其他方法取值\n",
    "print(min(prices.values()))\n",
    "print(max(prices.values()))"
   ]
  },
  {
   "source": [
    "# 透過lambda取得key值 最大最小\n",
    "print(min(prices, key=lambda k: prices[k]))\n",
    "print(max(prices, key=lambda k: prices[k]))\n",
    "\n",
    "min_value = prices[min(prices, key=lambda k: prices[k])]\n",
    "print(min_value)\n",
    "max_value = prices[max(prices, key=lambda k: prices[k])]\n",
    "print(max_value)"
   ],
   "cell_type": "code",
   "outputs": [
    {
     "output_type": "stream",
     "name": "stdout",
     "text": "AAA\nAAA\n45.23\n45.23\n"
    }
   ],
   "metadata": {},
   "execution_count": 21
  },
  {
   "cell_type": "code",
   "execution_count": 14,
   "metadata": {},
   "outputs": [
    {
     "name": "stdout",
     "output_type": "stream",
     "text": "(45.23, 'AAA')\n(45.23, 'ZZZ')\n"
    }
   ],
   "source": [
    "# 注意使用到了 (值，鍵) 對。當多個實體擁有相同的值的時候，鍵會決定返回結果。 比如，在執行 min() 和 max() 操作的時候，\n",
    "# 如果恰巧最小或最大值有重複的，那麼擁有最小或最大鍵的實體會返回：\n",
    "prices = {'AAA': 45.23, 'ZZZ': 45.23}\n",
    "min_a = min(zip(prices.values(),prices.keys()))\n",
    "print(min_a)\n",
    "max_a = max(zip(prices.values(),prices.keys()))\n",
    "print(max_a)\n"
   ]
  },
  {
   "cell_type": "code",
   "execution_count": null,
   "metadata": {},
   "outputs": [],
   "source": []
  }
 ]
}