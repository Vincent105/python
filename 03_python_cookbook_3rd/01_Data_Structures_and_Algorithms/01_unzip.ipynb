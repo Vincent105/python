{
 "nbformat": 4,
 "nbformat_minor": 2,
 "metadata": {
  "language_info": {
   "name": "python",
   "codemirror_mode": {
    "name": "ipython",
    "version": 3
   },
   "version": "3.7.5-final"
  },
  "orig_nbformat": 2,
  "file_extension": ".py",
  "mimetype": "text/x-python",
  "name": "python",
  "npconvert_exporter": "python",
  "pygments_lexer": "ipython3",
  "version": 3,
  "kernelspec": {
   "name": "python37564bitbaseconda3210c909c5fa4ba18cca988f0b8f9fd8",
   "display_name": "Python 3.7.5 64-bit ('base': conda)"
  }
 },
 "cells": [
  {
   "cell_type": "markdown",
   "execution_count": null,
   "metadata": {},
   "outputs": [],
   "source": [
    "解壓序列賦值給多個變量(唯一的前提就是變量的數量必須跟序列元素的數量是一樣的。)"
   ]
  },
  {
   "cell_type": "code",
   "execution_count": 2,
   "metadata": {},
   "outputs": [
    {
     "name": "stdout",
     "output_type": "stream",
     "text": "4\n5\n"
    }
   ],
   "source": [
    "p = (4, 5)\n",
    "x, y = p\n",
    "\n",
    "print(x)\n",
    "print(y)"
   ]
  },
  {
   "cell_type": "code",
   "execution_count": 3,
   "metadata": {},
   "outputs": [
    {
     "name": "stdout",
     "output_type": "stream",
     "text": "ACME\n(2012, 12, 21)\n"
    }
   ],
   "source": [
    "data = ['ACME', 50, 91.1, (2012, 12, 21)]\n",
    "name, share, price, date = data\n",
    "print(name)\n",
    "print(date)"
   ]
  },
  {
   "cell_type": "code",
   "execution_count": 4,
   "metadata": {},
   "outputs": [
    {
     "name": "stdout",
     "output_type": "stream",
     "text": "ACME\n2012\n12\n21\n"
    }
   ],
   "source": [
    "name, share, price, (year, mon, day) = data\n",
    "print(name)\n",
    "print(year)\n",
    "print(mon)\n",
    "print(day)"
   ]
  },
  {
   "cell_type": "code",
   "execution_count": 5,
   "metadata": {},
   "outputs": [
    {
     "name": "stdout",
     "output_type": "stream",
     "text": "H\n"
    }
   ],
   "source": [
    "s = 'Hello'\n",
    "a, b, c, d, e = s\n",
    "print(a)\n"
   ]
  },
  {
   "cell_type": "markdown",
   "execution_count": null,
   "metadata": {},
   "outputs": [],
   "source": [
    "有時候，可能只想解壓一部分，丟棄其他的值。對於這種情況 Python 並沒有提供特殊的語法。 但是你可以使用任意變量名去佔位，到時候丟掉這些變量就行了。"
   ]
  },
  {
   "cell_type": "code",
   "execution_count": 6,
   "metadata": {},
   "outputs": [
    {
     "name": "stdout",
     "output_type": "stream",
     "text": "50\n"
    }
   ],
   "source": [
    "data = [ 'ACME', 50, 91.1, (2012, 12, 21) ]\n",
    "_, share, price, _ = data\n",
    "print(share)"
   ]
  }
 ]
}