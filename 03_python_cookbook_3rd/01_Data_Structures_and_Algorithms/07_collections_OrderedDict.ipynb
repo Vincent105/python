{
 "nbformat": 4,
 "nbformat_minor": 2,
 "metadata": {
  "language_info": {
   "name": "python",
   "codemirror_mode": {
    "name": "ipython",
    "version": 3
   },
   "version": "3.7.5-final"
  },
  "orig_nbformat": 2,
  "file_extension": ".py",
  "mimetype": "text/x-python",
  "name": "python",
  "npconvert_exporter": "python",
  "pygments_lexer": "ipython3",
  "version": 3,
  "kernelspec": {
   "name": "python37564bitvirtualenvfe5bae16d3f743aca73bce467ebd2e37",
   "display_name": "Python 3.7.5 64-bit (virtualenv)"
  }
 },
 "cells": [
  {
   "cell_type": "markdown",
   "execution_count": null,
   "metadata": {},
   "outputs": [],
   "source": [
    "迭代操作的時候會保持元素被插入時的順序"
   ]
  },
  {
   "cell_type": "code",
   "execution_count": 7,
   "metadata": {},
   "outputs": [
    {
     "name": "stdout",
     "output_type": "stream",
     "text": "OrderedDict([('foo', 1), ('bar', 2), ('spam', 3), ('grok', 4)])\nfoo 1\nbar 2\nspam 3\ngrok 4\n"
    }
   ],
   "source": [
    "\n",
    "from collections import OrderedDict\n",
    "\n",
    "d= OrderedDict()\n",
    "d['foo'] = 1\n",
    "d['bar'] = 2\n",
    "d['spam'] = 3\n",
    "d['grok'] = 4\n",
    "\n",
    "print(d)\n",
    "\n",
    "for key in d:\n",
    "    print(key, d[key])    "
   ]
  },
  {
   "cell_type": "code",
   "execution_count": 8,
   "metadata": {},
   "outputs": [
    {
     "data": {
      "text/plain": "'{\"foo\": 1, \"bar\": 2, \"spam\": 3, \"grok\": 4}'"
     },
     "execution_count": 8,
     "metadata": {},
     "output_type": "execute_result"
    }
   ],
   "source": [
    "import json\n",
    "json.dumps(d)"
   ]
  },
  {
   "cell_type": "markdown",
   "execution_count": 9,
   "metadata": {},
   "outputs": [
    {
     "ename": "SyntaxError",
     "evalue": "invalid character in identifier (<ipython-input-9-b23ecc048614>, line 1)",
     "output_type": "error",
     "traceback": [
      "\u001b[1;36m  File \u001b[1;32m\"<ipython-input-9-b23ecc048614>\"\u001b[1;36m, line \u001b[1;32m1\u001b[0m\n\u001b[1;33m    OrderedDict 內部維護著一個根據鍵插入順序排序的雙向鏈表。每次當一個新的元素插入進來的時候， 它會被放到鏈表的尾部。對於一個已經存在的鍵的重複賦值不會改變鍵的順序。\u001b[0m\n\u001b[1;37m                                                      ^\u001b[0m\n\u001b[1;31mSyntaxError\u001b[0m\u001b[1;31m:\u001b[0m invalid character in identifier\n"
     ]
    }
   ],
   "source": [
    "OrderedDict 內部維護著一個根據鍵插入順序排序的雙向鏈表。每次當一個新的元素插入進來的時候， 它會被放到鏈表的尾部。對於一個已經存在的鍵的重複賦值不會改變鍵的順序。\n",
    "需要注意的是，一個 OrderedDict 的大小是一個普通字典的兩倍，因為它內部維護著另外一個鏈表。 所以如果你要構建一個需要大量 OrderedDict 實例的數據結構的時候（比如讀取 100,000 行 CSV 數據到一個 OrderedDict 列表中去）， 那麼你就得仔細權衡一下是否使用 OrderedDict 帶來的好處要大過額外內存消耗的影響。"
   ]
  },
  {
   "cell_type": "code",
   "execution_count": null,
   "metadata": {},
   "outputs": [],
   "source": []
  }
 ]
}