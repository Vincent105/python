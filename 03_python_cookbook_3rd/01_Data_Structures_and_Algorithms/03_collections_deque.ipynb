{
 "nbformat": 4,
 "nbformat_minor": 2,
 "metadata": {
  "language_info": {
   "name": "python",
   "codemirror_mode": {
    "name": "ipython",
    "version": 3
   },
   "version": "3.7.5-final"
  },
  "orig_nbformat": 2,
  "file_extension": ".py",
  "mimetype": "text/x-python",
  "name": "python",
  "npconvert_exporter": "python",
  "pygments_lexer": "ipython3",
  "version": 3,
  "kernelspec": {
   "name": "python37564bitbaseconda3210c909c5fa4ba18cca988f0b8f9fd8",
   "display_name": "Python 3.7.5 64-bit ('base': conda)"
  }
 },
 "cells": [
  {
   "cell_type": "code",
   "execution_count": 4,
   "metadata": {},
   "outputs": [
    {
     "name": "stdout",
     "output_type": "stream",
     "text": "k5\ntestpythontest\n--------------------\n"
    }
   ],
   "source": [
    "#保留最後 N 個元素\n",
    "from collections import deque\n",
    "def search(lines, pattern, history=5):\n",
    "    previous_lines = deque(maxlen=history)\n",
    "    for line in lines:\n",
    "        if pattern in line:\n",
    "            yield line, previous_lines\n",
    "        previous_lines.append(line)\n",
    "\n",
    "# Example use on a file\n",
    "if __name__ == '__main__':\n",
    "    with open('E:\\\\python\\\\03_python_cookbook_3rd\\\\01_Data_Structures_and_Algorithms\\\\somefile.txt','r') as f:\n",
    "        for line, prevlines in search(f, 'python', 1):\n",
    "            for pline in prevlines:\n",
    "                print(pline, end='')\n",
    "            print(line, end='')\n",
    "            print('-' * 20)"
   ]
  },
  {
   "cell_type": "markdown",
   "execution_count": null,
   "metadata": {},
   "outputs": [],
   "source": [
    "#deque(maxlen=N) 構造函數會新建一個固定大小的隊列。當新的元素加入並且這個隊列已滿的時候， 最老的元素會自動被移除掉。"
   ]
  },
  {
   "cell_type": "code",
   "execution_count": 5,
   "metadata": {},
   "outputs": [
    {
     "name": "stdout",
     "output_type": "stream",
     "text": "deque([1, 2, 3], maxlen=3)\ndeque([2, 3, 4], maxlen=3)\ndeque([3, 4, 5], maxlen=3)\n"
    }
   ],
   "source": [
    " q = deque(maxlen=3)\n",
    "\n",
    "q.append(1)\n",
    "q.append(2)\n",
    "q.append(3)\n",
    "print(q)\n",
    "q.append(4)\n",
    "print(q)\n",
    "q.append(5)\n",
    "print(q)"
   ]
  },
  {
   "cell_type": "markdown",
   "execution_count": null,
   "metadata": {},
   "outputs": [],
   "source": [
    "#deque 類可以被用在任何你只需要一個簡單隊列數據結構的場合。 如果你不設置最大隊列大小，那麼就會得到一個無限大小隊列\n",
    "#可以在隊列的兩端執行添加和彈出元素的操作。"
   ]
  },
  {
   "cell_type": "code",
   "execution_count": 6,
   "metadata": {},
   "outputs": [
    {
     "name": "stdout",
     "output_type": "stream",
     "text": "deque([1, 2, 3])\ndeque([4, 1, 2, 3])\ndeque([4, 1, 2])\ndeque([1, 2])\n"
    }
   ],
   "source": [
    "q = deque()\n",
    "q.append(1)\n",
    "q.append(2)\n",
    "q.append(3)\n",
    "print(q)\n",
    "q.appendleft(4)\n",
    "print(q)\n",
    "q.pop()\n",
    "print(q)\n",
    "q.popleft()\n",
    "print(q)"
   ]
  }
 ]
}